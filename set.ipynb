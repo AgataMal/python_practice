{
 "cells": [
  {
   "cell_type": "code",
   "execution_count": 37,
   "id": "89b7c135",
   "metadata": {},
   "outputs": [],
   "source": [
    "inputt=\"\"\"7\n",
    "UK\n",
    "China\n",
    "USA\n",
    "France\n",
    "New Zealand\n",
    "UK\n",
    "France\"\"\""
   ]
  },
  {
   "cell_type": "code",
   "execution_count": 38,
   "id": "2f87e099",
   "metadata": {},
   "outputs": [
    {
     "data": {
      "text/plain": [
       "'7\\nUK\\nChina\\nUSA\\nFrance\\nNew Zealand\\nUK\\nFrance'"
      ]
     },
     "execution_count": 38,
     "metadata": {},
     "output_type": "execute_result"
    }
   ],
   "source": [
    "inputt"
   ]
  },
  {
   "cell_type": "code",
   "execution_count": 12,
   "id": "9f37e4ff",
   "metadata": {},
   "outputs": [],
   "source": [
    "splited=inputt.split(\"\\n\")"
   ]
  },
  {
   "cell_type": "code",
   "execution_count": 28,
   "id": "395a0c7a",
   "metadata": {},
   "outputs": [
    {
     "data": {
      "text/plain": [
       "['7', 'UK', 'China', 'USA', 'France', 'New Zealand', 'UK', 'France']"
      ]
     },
     "execution_count": 28,
     "metadata": {},
     "output_type": "execute_result"
    }
   ],
   "source": [
    "splited"
   ]
  },
  {
   "cell_type": "code",
   "execution_count": 29,
   "id": "e6e037af",
   "metadata": {},
   "outputs": [],
   "source": [
    "values=splited[1:]"
   ]
  },
  {
   "cell_type": "code",
   "execution_count": 30,
   "id": "6f164512",
   "metadata": {},
   "outputs": [
    {
     "data": {
      "text/plain": [
       "['UK', 'China', 'USA', 'France', 'New Zealand', 'UK', 'France']"
      ]
     },
     "execution_count": 30,
     "metadata": {},
     "output_type": "execute_result"
    }
   ],
   "source": [
    "values"
   ]
  },
  {
   "cell_type": "code",
   "execution_count": 31,
   "id": "d565a355",
   "metadata": {},
   "outputs": [],
   "source": [
    "zbior=set()"
   ]
  },
  {
   "cell_type": "code",
   "execution_count": 32,
   "id": "241c62a3",
   "metadata": {},
   "outputs": [],
   "source": [
    "for i in values:\n",
    "    zbior.add(i) "
   ]
  },
  {
   "cell_type": "code",
   "execution_count": 33,
   "id": "d3429303",
   "metadata": {},
   "outputs": [
    {
     "data": {
      "text/plain": [
       "{'China', 'France', 'New Zealand', 'UK', 'USA'}"
      ]
     },
     "execution_count": 33,
     "metadata": {},
     "output_type": "execute_result"
    }
   ],
   "source": [
    "zbior"
   ]
  },
  {
   "cell_type": "code",
   "execution_count": 5,
   "id": "4c1ab2fd",
   "metadata": {},
   "outputs": [
    {
     "name": "stdout",
     "output_type": "stream",
     "text": [
      "5\n",
      "1\n",
      "1\n",
      "2\n",
      "2\n",
      "\n",
      "3\n"
     ]
    }
   ],
   "source": [
    "ilosc=int(input())\n",
    "zbior=set()\n",
    "for i in range(ilosc):\n",
    "    zbior.add(input())\n",
    "print(len(zbior))"
   ]
  },
  {
   "cell_type": "code",
   "execution_count": null,
   "id": "8df02519",
   "metadata": {},
   "outputs": [],
   "source": []
  },
  {
   "cell_type": "code",
   "execution_count": null,
   "id": "ea0a6361",
   "metadata": {},
   "outputs": [],
   "source": []
  }
 ],
 "metadata": {
  "kernelspec": {
   "display_name": "Python 3 (ipykernel)",
   "language": "python",
   "name": "python3"
  },
  "language_info": {
   "codemirror_mode": {
    "name": "ipython",
    "version": 3
   },
   "file_extension": ".py",
   "mimetype": "text/x-python",
   "name": "python",
   "nbconvert_exporter": "python",
   "pygments_lexer": "ipython3",
   "version": "3.9.7"
  }
 },
 "nbformat": 4,
 "nbformat_minor": 5
}
