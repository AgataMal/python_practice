{
 "cells": [
  {
   "cell_type": "code",
   "execution_count": 1,
   "id": "2d70dcb2",
   "metadata": {},
   "outputs": [],
   "source": [
    "class Skrzynka:\n",
    "    def __init__(self):\n",
    "        self.listy=[]\n",
    "    def wrzuc(self, List):\n",
    "        self.listy.append(List)\n",
    "        print (str(len(self.listy)) + \"listow w skrzynce\")\n",
    "    def zabierz(self):\n",
    "        poczta=self.listy.pop(0)\n",
    "        print (str(len(self.listy)) + \"listow w skrzynce\")\n",
    "\n",
    "        return poczta"
   ]
  },
  {
   "cell_type": "code",
   "execution_count": 6,
   "id": "4a38c3ee",
   "metadata": {},
   "outputs": [],
   "source": [
    "class List:\n",
    "    def __init__(self):\n",
    "        pass"
   ]
  },
  {
   "cell_type": "code",
   "execution_count": 2,
   "id": "e44e954a",
   "metadata": {},
   "outputs": [],
   "source": [
    "skrzynka=Skrzynka()"
   ]
  },
  {
   "cell_type": "code",
   "execution_count": 3,
   "id": "2aa51de8",
   "metadata": {},
   "outputs": [
    {
     "ename": "NameError",
     "evalue": "name 'List' is not defined",
     "output_type": "error",
     "traceback": [
      "\u001b[0;31m---------------------------------------------------------------------------\u001b[0m",
      "\u001b[0;31mNameError\u001b[0m                                 Traceback (most recent call last)",
      "\u001b[0;32m/tmp/ipykernel_4125/122103083.py\u001b[0m in \u001b[0;36m<module>\u001b[0;34m\u001b[0m\n\u001b[1;32m      1\u001b[0m \u001b[0;32mfor\u001b[0m \u001b[0mi\u001b[0m \u001b[0;32min\u001b[0m \u001b[0mrange\u001b[0m \u001b[0;34m(\u001b[0m\u001b[0;36m3\u001b[0m\u001b[0;34m)\u001b[0m\u001b[0;34m:\u001b[0m\u001b[0;34m\u001b[0m\u001b[0;34m\u001b[0m\u001b[0m\n\u001b[0;32m----> 2\u001b[0;31m     \u001b[0mskrzynka\u001b[0m\u001b[0;34m.\u001b[0m\u001b[0mwrzuc\u001b[0m\u001b[0;34m(\u001b[0m\u001b[0mList\u001b[0m\u001b[0;34m(\u001b[0m\u001b[0;34m)\u001b[0m\u001b[0;34m)\u001b[0m\u001b[0;34m\u001b[0m\u001b[0;34m\u001b[0m\u001b[0m\n\u001b[0m\u001b[1;32m      3\u001b[0m \u001b[0;34m\u001b[0m\u001b[0m\n",
      "\u001b[0;31mNameError\u001b[0m: name 'List' is not defined"
     ]
    }
   ],
   "source": [
    "for i in range (3):\n",
    "    skrzynka.wrzuc(List())\n",
    "\n"
   ]
  },
  {
   "cell_type": "code",
   "execution_count": 10,
   "id": "f1fd1caa",
   "metadata": {},
   "outputs": [
    {
     "name": "stdout",
     "output_type": "stream",
     "text": [
      "8listow w skrzynce\n",
      "7listow w skrzynce\n"
     ]
    }
   ],
   "source": [
    "for i in range (2):\n",
    "    skrzynka.zabierz()"
   ]
  },
  {
   "cell_type": "code",
   "execution_count": 4,
   "id": "a387d582",
   "metadata": {},
   "outputs": [],
   "source": [
    "class Skrzynka:\n",
    "    def __init__(self):\n",
    "        self.listy=[]\n",
    "    def wrzuc(self, List):\n",
    "        self.listy.append(List)\n",
    "        print (str(len(self.listy)) + \"listow w skrzynce\")\n",
    "    def zabierz_wszystkie(self ):\n",
    "        poczta_wyjęta=self.listy\n",
    "        self.listy=[]\n",
    "\n",
    "        return poczta_wyjęta\n",
    "    "
   ]
  },
  {
   "cell_type": "code",
   "execution_count": 7,
   "id": "50dec779",
   "metadata": {},
   "outputs": [
    {
     "name": "stdout",
     "output_type": "stream",
     "text": [
      "1listow w skrzynce\n",
      "2listow w skrzynce\n",
      "3listow w skrzynce\n"
     ]
    }
   ],
   "source": [
    "skrzynka=Skrzynka()\n",
    "for i in range (3):\n",
    "    skrzynka.wrzuc(List())"
   ]
  },
  {
   "cell_type": "code",
   "execution_count": 8,
   "id": "c6a38744",
   "metadata": {},
   "outputs": [
    {
     "data": {
      "text/plain": [
       "[<__main__.List at 0x7fe7705afb50>,\n",
       " <__main__.List at 0x7fe7705afe20>,\n",
       " <__main__.List at 0x7fe7705afbe0>]"
      ]
     },
     "execution_count": 8,
     "metadata": {},
     "output_type": "execute_result"
    }
   ],
   "source": [
    "skrzynka.zabierz_wszystkie()"
   ]
  },
  {
   "cell_type": "code",
   "execution_count": null,
   "id": "832899ab",
   "metadata": {},
   "outputs": [],
   "source": [
    " "
   ]
  }
 ],
 "metadata": {
  "kernelspec": {
   "display_name": "Python 3 (ipykernel)",
   "language": "python",
   "name": "python3"
  },
  "language_info": {
   "codemirror_mode": {
    "name": "ipython",
    "version": 3
   },
   "file_extension": ".py",
   "mimetype": "text/x-python",
   "name": "python",
   "nbconvert_exporter": "python",
   "pygments_lexer": "ipython3",
   "version": "3.9.7"
  }
 },
 "nbformat": 4,
 "nbformat_minor": 5
}
