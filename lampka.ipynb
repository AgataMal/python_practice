{
 "cells": [
  {
   "cell_type": "code",
   "execution_count": 17,
   "id": "b413f409",
   "metadata": {},
   "outputs": [],
   "source": [
    "class Lampka:\n",
    "    def __init__(self):\n",
    "        self.czy_wlaczona=False\n",
    "    def pstryk(self):\n",
    "        if not self.czy_wlaczona:\n",
    "            self.czy_wlaczona=True\n",
    "        else:\n",
    "            self.czy_wlaczona=False\n",
    "        print(\"Wlaczona? \"+str(self.czy_wlaczona))\n",
    "        "
   ]
  },
  {
   "cell_type": "code",
   "execution_count": 5,
   "id": "5d7a0f49",
   "metadata": {},
   "outputs": [],
   "source": [
    "class Lampka:\n",
    "    def __init__(self):\n",
    "        self.czy_wylaczona=True\n",
    "    def pstryk(self):\n",
    "        if  self.czy_wylaczona:\n",
    "            self.czy_wylaczona=False\n",
    "        else:\n",
    "            self.czy_wylaczona=True\n",
    "        print(\"Wylaczona? \",str(self.czy_wylaczona))"
   ]
  },
  {
   "cell_type": "code",
   "execution_count": 6,
   "id": "c44645e0",
   "metadata": {},
   "outputs": [
    {
     "name": "stdout",
     "output_type": "stream",
     "text": [
      "Wylaczona?  False\n",
      "Wylaczona?  True\n",
      "Wylaczona?  False\n",
      "Wylaczona?  True\n",
      "Wylaczona?  False\n",
      "Wylaczona?  True\n",
      "Wylaczona?  False\n",
      "Wylaczona?  True\n",
      "Wylaczona?  False\n",
      "Wylaczona?  True\n"
     ]
    }
   ],
   "source": [
    "lampka=Lampka()\n",
    "for i in range(10):\n",
    "    lampka.pstryk()"
   ]
  },
  {
   "cell_type": "code",
   "execution_count": null,
   "id": "3bfa218a",
   "metadata": {},
   "outputs": [],
   "source": []
  }
 ],
 "metadata": {
  "kernelspec": {
   "display_name": "Python 3 (ipykernel)",
   "language": "python",
   "name": "python3"
  },
  "language_info": {
   "codemirror_mode": {
    "name": "ipython",
    "version": 3
   },
   "file_extension": ".py",
   "mimetype": "text/x-python",
   "name": "python",
   "nbconvert_exporter": "python",
   "pygments_lexer": "ipython3",
   "version": "3.9.7"
  }
 },
 "nbformat": 4,
 "nbformat_minor": 5
}
