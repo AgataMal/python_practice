{
 "cells": [
  {
   "cell_type": "code",
   "execution_count": 2,
   "id": "30b6c114",
   "metadata": {},
   "outputs": [],
   "source": [
    "def wypłać(kwota,kod_pin):\n",
    "    stan_konta=1000\n",
    "    poprawny_pin=2345\n",
    "    if poprawny_pin==kod_pin:\n",
    "        return kwota\n"
   ]
  },
  {
   "cell_type": "code",
   "execution_count": 5,
   "id": "4f3d77a6",
   "metadata": {
    "scrolled": true
   },
   "outputs": [
    {
     "data": {
      "text/plain": [
       "300"
      ]
     },
     "execution_count": 5,
     "metadata": {},
     "output_type": "execute_result"
    }
   ],
   "source": [
    "wypłać(300,2345)"
   ]
  },
  {
   "cell_type": "code",
   "execution_count": null,
   "id": "64ebaf46",
   "metadata": {},
   "outputs": [],
   "source": []
  },
  {
   "cell_type": "code",
   "execution_count": null,
   "id": "589bfae9",
   "metadata": {},
   "outputs": [],
   "source": []
  },
  {
   "cell_type": "code",
   "execution_count": null,
   "id": "569af01d",
   "metadata": {},
   "outputs": [],
   "source": []
  }
 ],
 "metadata": {
  "kernelspec": {
   "display_name": "Python 3 (ipykernel)",
   "language": "python",
   "name": "python3"
  },
  "language_info": {
   "codemirror_mode": {
    "name": "ipython",
    "version": 3
   },
   "file_extension": ".py",
   "mimetype": "text/x-python",
   "name": "python",
   "nbconvert_exporter": "python",
   "pygments_lexer": "ipython3",
   "version": "3.9.7"
  }
 },
 "nbformat": 4,
 "nbformat_minor": 5
}
