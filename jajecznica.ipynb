{
 "cells": [
  {
   "cell_type": "code",
   "execution_count": 22,
   "id": "031ac5f7",
   "metadata": {},
   "outputs": [],
   "source": [
    "class Jajo:\n",
    "    def __init__(self):\n",
    "        pass "
   ]
  },
  {
   "cell_type": "code",
   "execution_count": 23,
   "id": "6d5add39",
   "metadata": {},
   "outputs": [],
   "source": [
    "class Lodowka:\n",
    "     def wyjmij(self,ile_jajek):\n",
    "        wyjmowane_jajka=[]\n",
    "        for i in range(ile_jajek):\n",
    "            wyjmowane_jajka.append(Jajo())\n",
    "            print(\"wyjelam \"+str(len(wyjmowane_jajka))+\" jajek\")\n",
    "        return wyjmowane_jajka"
   ]
  },
  {
   "cell_type": "code",
   "execution_count": 24,
   "id": "627b652d",
   "metadata": {},
   "outputs": [],
   "source": [
    "def rozbij(jajo):\n",
    "    \n",
    "    print(\"rozbijam Jajo\")"
   ]
  },
  {
   "cell_type": "code",
   "execution_count": 25,
   "id": "14f70581",
   "metadata": {},
   "outputs": [],
   "source": [
    "def smazymy(jaja):\n",
    "    print(\"smaze jaja\")"
   ]
  },
  {
   "cell_type": "code",
   "execution_count": 26,
   "id": "e65cab4b",
   "metadata": {},
   "outputs": [],
   "source": [
    "lodowka=Lodowka()\n",
    "def jajecznica(ile):\n",
    "    jajka=lodowka.wyjmij(ile)\n",
    "    for jajko in jajka:\n",
    "        rozbij (jajko)\n",
    "    smazymy(jajka)\n",
    "\n"
   ]
  },
  {
   "cell_type": "code",
   "execution_count": 28,
   "id": "65e0380c",
   "metadata": {},
   "outputs": [
    {
     "name": "stdout",
     "output_type": "stream",
     "text": [
      "wyjelam 1 jajek\n",
      "wyjelam 2 jajek\n",
      "wyjelam 3 jajek\n",
      "wyjelam 4 jajek\n",
      "wyjelam 5 jajek\n",
      "wyjelam 6 jajek\n",
      "wyjelam 7 jajek\n",
      "wyjelam 8 jajek\n",
      "wyjelam 9 jajek\n",
      "wyjelam 10 jajek\n",
      "rozbijam Jajo\n",
      "rozbijam Jajo\n",
      "rozbijam Jajo\n",
      "rozbijam Jajo\n",
      "rozbijam Jajo\n",
      "rozbijam Jajo\n",
      "rozbijam Jajo\n",
      "rozbijam Jajo\n",
      "rozbijam Jajo\n",
      "rozbijam Jajo\n",
      "smaze jaja\n"
     ]
    }
   ],
   "source": [
    "jajecznica(10)"
   ]
  },
  {
   "cell_type": "code",
   "execution_count": null,
   "id": "9135f114",
   "metadata": {},
   "outputs": [],
   "source": []
  },
  {
   "cell_type": "code",
   "execution_count": null,
   "id": "d8017b63",
   "metadata": {},
   "outputs": [],
   "source": []
  }
 ],
 "metadata": {
  "kernelspec": {
   "display_name": "Python 3 (ipykernel)",
   "language": "python",
   "name": "python3"
  },
  "language_info": {
   "codemirror_mode": {
    "name": "ipython",
    "version": 3
   },
   "file_extension": ".py",
   "mimetype": "text/x-python",
   "name": "python",
   "nbconvert_exporter": "python",
   "pygments_lexer": "ipython3",
   "version": "3.9.7"
  }
 },
 "nbformat": 4,
 "nbformat_minor": 5
}
