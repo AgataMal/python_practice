{
 "cells": [
  {
   "cell_type": "code",
   "execution_count": 17,
   "id": "031ac5f7",
   "metadata": {},
   "outputs": [],
   "source": [
    "class Jajo:\n",
    "    def __init__(self):\n",
    "        pass \n",
    "class Pomidor:\n",
    "     def __init__(self):\n",
    "        pass "
   ]
  },
  {
   "cell_type": "code",
   "execution_count": 28,
   "id": "6d5add39",
   "metadata": {},
   "outputs": [],
   "source": [
    "class Lodowka:\n",
    "    def wyjmij_pomidory(self,ile_pomidorow):\n",
    "        wyjmowane_pomidory=[]    \n",
    "        for i in range(ile_pomidorow):\n",
    "            wyjmowane_pomidory.append(Pomidor())\n",
    "            if i==0:\n",
    "                print (\"wyjelam \"+str(len(wyjmowane_pomidory))+\" pomidor\")\n",
    "            elif i>0 and i<5:\n",
    "                print(\"wyjelam \"+str(len(wyjmowane_pomidory))+\" pomidory\" )\n",
    "            else:\n",
    "                print(\"wyjelam \"+str(len(wyjmowane_pomidory))+\" pomidorow\")\n",
    "        return wyjmowane_pomidory\n",
    "    def wyjmij_jajka(self,ile_jajek):\n",
    "        wyjmowane_jajka=[]\n",
    "        for i in range(ile_jajek):\n",
    "            wyjmowane_jajka.append(Jajo())\n",
    "            if i==0:\n",
    "                print (\"wyjelam \"+str(len(wyjmowane_jajka))+\" jajko\")\n",
    "            elif i>0 and i<5:\n",
    "                print(\"wyjelam \"+str(len(wyjmowane_jajka))+\" jajka\")\n",
    "            else:\n",
    "                print(\"wyjelam \"+str(len(wyjmowane_jajka))+\" jajek\")\n",
    "        return wyjmowane_jajka"
   ]
  },
  {
   "cell_type": "code",
   "execution_count": 29,
   "id": "627b652d",
   "metadata": {},
   "outputs": [],
   "source": [
    "def rozbij(jajo):\n",
    "    \n",
    "    print(\"rozbijam Jajo\")"
   ]
  },
  {
   "cell_type": "code",
   "execution_count": 30,
   "id": "14f70581",
   "metadata": {},
   "outputs": [],
   "source": [
    "def smazymy(jaja):\n",
    "    print(\"smaze jaja\")\n",
    "def wrzucam(pomidory):\n",
    "    print(\"wrzucam pomidoowy\")"
   ]
  },
  {
   "cell_type": "code",
   "execution_count": 31,
   "id": "e65cab4b",
   "metadata": {},
   "outputs": [],
   "source": [
    "lodowka=Lodowka()\n",
    "def jajecznica(ile):\n",
    "    pomidory=lodowka.wyjmij_pomidory(ile)\n",
    "    jajka=lodowka.wyjmij_jajka(ile)\n",
    "    for jajko in jajka:\n",
    "        rozbij (jajko)\n",
    "    smazymy(jajka)\n",
    "\n"
   ]
  },
  {
   "cell_type": "code",
   "execution_count": 32,
   "id": "65e0380c",
   "metadata": {},
   "outputs": [
    {
     "name": "stdout",
     "output_type": "stream",
     "text": [
      "wyjelam 1 pomidor\n",
      "wyjelam 2 pomidory\n",
      "wyjelam 3 pomidory\n",
      "wyjelam 4 pomidory\n",
      "wyjelam 5 pomidory\n",
      "wyjelam 6 pomidorow\n",
      "wyjelam 7 pomidorow\n",
      "wyjelam 8 pomidorow\n",
      "wyjelam 9 pomidorow\n",
      "wyjelam 10 pomidorow\n",
      "wyjelam 1 jajko\n",
      "wyjelam 2 jajka\n",
      "wyjelam 3 jajka\n",
      "wyjelam 4 jajka\n",
      "wyjelam 5 jajka\n",
      "wyjelam 6 jajek\n",
      "wyjelam 7 jajek\n",
      "wyjelam 8 jajek\n",
      "wyjelam 9 jajek\n",
      "wyjelam 10 jajek\n",
      "rozbijam Jajo\n",
      "rozbijam Jajo\n",
      "rozbijam Jajo\n",
      "rozbijam Jajo\n",
      "rozbijam Jajo\n",
      "rozbijam Jajo\n",
      "rozbijam Jajo\n",
      "rozbijam Jajo\n",
      "rozbijam Jajo\n",
      "rozbijam Jajo\n",
      "smaze jaja\n"
     ]
    }
   ],
   "source": [
    "jajecznica(10)"
   ]
  },
  {
   "cell_type": "code",
   "execution_count": null,
   "id": "9135f114",
   "metadata": {},
   "outputs": [],
   "source": []
  },
  {
   "cell_type": "code",
   "execution_count": null,
   "id": "d8017b63",
   "metadata": {},
   "outputs": [],
   "source": []
  }
 ],
 "metadata": {
  "kernelspec": {
   "display_name": "Python 3 (ipykernel)",
   "language": "python",
   "name": "python3"
  },
  "language_info": {
   "codemirror_mode": {
    "name": "ipython",
    "version": 3
   },
   "file_extension": ".py",
   "mimetype": "text/x-python",
   "name": "python",
   "nbconvert_exporter": "python",
   "pygments_lexer": "ipython3",
   "version": "3.9.7"
  }
 },
 "nbformat": 4,
 "nbformat_minor": 5
}
