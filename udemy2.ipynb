{
 "cells": [
  {
   "cell_type": "code",
   "execution_count": 3,
   "id": "2dab3d5b",
   "metadata": {},
   "outputs": [],
   "source": [
    "name='Agata'\n",
    "age=34\n",
    "daysInYear=365\n",
    "message= name+' is '+ str(age) + ' years old, so is about ' + str(age*daysInYear)"
   ]
  },
  {
   "cell_type": "code",
   "execution_count": 29,
   "id": "e24ffc0f",
   "metadata": {},
   "outputs": [
    {
     "name": "stdout",
     "output_type": "stream",
     "text": [
      "Agata is 34 years old, so is about 12410\n"
     ]
    }
   ],
   "source": [
    "print(message)"
   ]
  },
  {
   "cell_type": "code",
   "execution_count": 34,
   "id": "f9d77c65",
   "metadata": {},
   "outputs": [
    {
     "ename": "SyntaxError",
     "evalue": "invalid syntax (3937101634.py, line 1)",
     "output_type": "error",
     "traceback": [
      "\u001b[0;36m  File \u001b[0;32m\"/tmp/ipykernel_3703/3937101634.py\"\u001b[0;36m, line \u001b[0;32m1\u001b[0m\n\u001b[0;31m    Jan is str(26) years old, so is about str(9490) days old\u001b[0m\n\u001b[0m                   ^\u001b[0m\n\u001b[0;31mSyntaxError\u001b[0m\u001b[0;31m:\u001b[0m invalid syntax\n"
     ]
    }
   ],
   "source": [
    "Jan is str(26) years old, so is about str(9490) days old"
   ]
  },
  {
   "cell_type": "code",
   "execution_count": 30,
   "id": "bb87661f",
   "metadata": {},
   "outputs": [
    {
     "name": "stdout",
     "output_type": "stream",
     "text": [
      "agata malczyk lat 34\n"
     ]
    }
   ],
   "source": [
    "print(\"agata %s lat %d\" % (\"malczyk\",34) )"
   ]
  },
  {
   "cell_type": "code",
   "execution_count": 9,
   "id": "0da98002",
   "metadata": {},
   "outputs": [
    {
     "name": "stdout",
     "output_type": "stream",
     "text": [
      "agata malczyk lat malczyk\n"
     ]
    }
   ],
   "source": [
    "print(\"agata {0:s} lat {0:s}\" .format (\"malczyk\",'trzydziesci') )"
   ]
  },
  {
   "cell_type": "code",
   "execution_count": 11,
   "id": "d6b8aa03",
   "metadata": {},
   "outputs": [
    {
     "name": "stdout",
     "output_type": "stream",
     "text": [
      "Hello Kate!\n"
     ]
    }
   ],
   "source": [
    "helloMessage= \"Hello %s!\"\n",
    "print(helloMessage % 'Kate')"
   ]
  },
  {
   "cell_type": "code",
   "execution_count": 12,
   "id": "9d048a4b",
   "metadata": {},
   "outputs": [
    {
     "name": "stdout",
     "output_type": "stream",
     "text": [
      "Hello Chris!\n"
     ]
    }
   ],
   "source": [
    "print(helloMessage % 'Chris')"
   ]
  },
  {
   "cell_type": "code",
   "execution_count": 15,
   "id": "aa5bc654",
   "metadata": {},
   "outputs": [
    {
     "name": "stdout",
     "output_type": "stream",
     "text": [
      "Hello Kate!\n"
     ]
    }
   ],
   "source": [
    "helloMessage=\"Hello {0:s}!\"\n",
    "print(helloMessage.format (\"Kate\"))"
   ]
  },
  {
   "cell_type": "code",
   "execution_count": 16,
   "id": "efdf0beb",
   "metadata": {},
   "outputs": [
    {
     "name": "stdout",
     "output_type": "stream",
     "text": [
      "Hello Chris!\n"
     ]
    }
   ],
   "source": [
    "print(helloMessage.format (\"Chris\"))"
   ]
  },
  {
   "cell_type": "code",
   "execution_count": 19,
   "id": "2df9401e",
   "metadata": {},
   "outputs": [
    {
     "name": "stdout",
     "output_type": "stream",
     "text": [
      "Kate has 1 animal\n",
      "Chris has 10000 $\n"
     ]
    }
   ],
   "source": [
    "helloMessage=\"%s has %d %s\"\n",
    "Kate=('Kate',1, 'animal')\n",
    "print(helloMessage % Kate)\n",
    "helloMessage=\"%s has %d %s\"\n",
    "print(helloMessage % ('Chris', 10000, \"$\"))"
   ]
  },
  {
   "cell_type": "code",
   "execution_count": 26,
   "id": "ac51172d",
   "metadata": {},
   "outputs": [],
   "source": [
    "helloMessage=\"{0:s} has {1:d} {2:s}\""
   ]
  },
  {
   "cell_type": "code",
   "execution_count": 27,
   "id": "c6c9e166",
   "metadata": {},
   "outputs": [
    {
     "name": "stdout",
     "output_type": "stream",
     "text": [
      "Kate has 1 animal\n"
     ]
    }
   ],
   "source": [
    "print(helloMessage.format(\"Kate\", 1, \"animal\"))"
   ]
  },
  {
   "cell_type": "code",
   "execution_count": 28,
   "id": "0325b38a",
   "metadata": {},
   "outputs": [
    {
     "name": "stdout",
     "output_type": "stream",
     "text": [
      "Cris has 100000 $\n"
     ]
    }
   ],
   "source": [
    "print(helloMessage.format(\"Cris\", 100000, \"$\"))"
   ]
  },
  {
   "cell_type": "code",
   "execution_count": 41,
   "id": "3a71ae20",
   "metadata": {},
   "outputs": [
    {
     "name": "stdout",
     "output_type": "stream",
     "text": [
      "1234567890 divided by 12345 is 100005 and the rest is 6165\n"
     ]
    }
   ],
   "source": [
    "\n",
    "\n",
    "print('1234567890 divided by 12345 is',1234567890//12345,'and the rest is',1234567890%12345)"
   ]
  },
  {
   "cell_type": "code",
   "execution_count": 42,
   "id": "dda09a1e",
   "metadata": {},
   "outputs": [
    {
     "name": "stdout",
     "output_type": "stream",
     "text": [
      "1234567890 divided by 12345 is 100005 and the rest is 6165\n"
     ]
    }
   ],
   "source": [
    "print('1234567890 divided by 12345 is {0:d} and the rest is {1:d}'.format(1234567890//12345, 1234567890%12345))"
   ]
  },
  {
   "cell_type": "code",
   "execution_count": 23,
   "id": "e3fb328d",
   "metadata": {},
   "outputs": [],
   "source": [
    "    isAutomaticMode = True\n",
    "    is80PercentLight = False\n",
    "    isDirectLight = False\n",
    "    isRainy = True\n",
    "    \n",
    "turnLightsOn=False\n"
   ]
  },
  {
   "cell_type": "code",
   "execution_count": 19,
   "id": "ffcb17b5",
   "metadata": {},
   "outputs": [],
   "source": [
    " if isAutomaticMode: \n",
    "    if is80PercentLight:\n",
    "        turnLightsOn=True\n",
    "    if isDirectLight:\n",
    "        turnLightsOn=True\n",
    "    if isRainy:\n",
    "        turnLightsOn=True"
   ]
  },
  {
   "cell_type": "code",
   "execution_count": 26,
   "id": "fe5274dc",
   "metadata": {},
   "outputs": [],
   "source": [
    "turnLightsOn=isAutomaticMode and (not is80PercentLight or isDirectLight or isRainy)"
   ]
  },
  {
   "cell_type": "code",
   "execution_count": 27,
   "id": "bb7de879",
   "metadata": {},
   "outputs": [
    {
     "name": "stdout",
     "output_type": "stream",
     "text": [
      "Automatic mode:    True\n",
      "Is the light good: False\n",
      "Is sun low:        False\n",
      "Is it rainy:       True\n",
      "TURN LIGHTS ON:    True\n"
     ]
    }
   ],
   "source": [
    "    print(\"Automatic mode:   \",isAutomaticMode)\n",
    "    print(\"Is the light good:\",is80PercentLight)\n",
    "    print(\"Is sun low:       \",isDirectLight)\n",
    "    print(\"Is it rainy:      \",isRainy)\n",
    "    print(\"TURN LIGHTS ON:   \",turnLightsOn)"
   ]
  },
  {
   "cell_type": "code",
   "execution_count": 34,
   "id": "9407b791",
   "metadata": {},
   "outputs": [],
   "source": [
    "v1=126\n",
    "\n",
    "v2='126'\n",
    "\n",
    "v3=126.0\n",
    "\n",
    "v4='126.0'\n",
    "    "
   ]
  },
  {
   "cell_type": "code",
   "execution_count": 39,
   "id": "db91d1cf",
   "metadata": {},
   "outputs": [
    {
     "name": "stdout",
     "output_type": "stream",
     "text": [
      "<class 'int'>\n"
     ]
    }
   ],
   "source": [
    "print(type (v1))"
   ]
  },
  {
   "cell_type": "code",
   "execution_count": 40,
   "id": "75845b55",
   "metadata": {},
   "outputs": [
    {
     "name": "stdout",
     "output_type": "stream",
     "text": [
      "<class 'str'>\n"
     ]
    }
   ],
   "source": [
    "print(type (v2))"
   ]
  },
  {
   "cell_type": "code",
   "execution_count": 45,
   "id": "4ef8da0c",
   "metadata": {},
   "outputs": [
    {
     "name": "stdout",
     "output_type": "stream",
     "text": [
      "252.0 <class 'type'>\n"
     ]
    }
   ],
   "source": [
    "print((v1+v3),type)"
   ]
  },
  {
   "cell_type": "code",
   "execution_count": 46,
   "id": "c00e8798",
   "metadata": {},
   "outputs": [
    {
     "data": {
      "text/plain": [
       "13"
      ]
     },
     "execution_count": 46,
     "metadata": {},
     "output_type": "execute_result"
    }
   ],
   "source": [
    "7-1*0+3+3"
   ]
  },
  {
   "cell_type": "code",
   "execution_count": 47,
   "id": "35bc838a",
   "metadata": {},
   "outputs": [
    {
     "data": {
      "text/plain": [
       "128"
      ]
     },
     "execution_count": 47,
     "metadata": {},
     "output_type": "execute_result"
    }
   ],
   "source": [
    "4**5//2**3"
   ]
  },
  {
   "cell_type": "code",
   "execution_count": 10,
   "id": "18e75443",
   "metadata": {},
   "outputs": [],
   "source": [
    "line='Program \"Pytanie na śniadanie\" nadamy o: 6:00' \n",
    "time=line[line.find(\":\")+2:]"
   ]
  },
  {
   "cell_type": "code",
   "execution_count": 11,
   "id": "8f2a0fd2",
   "metadata": {},
   "outputs": [
    {
     "name": "stdout",
     "output_type": "stream",
     "text": [
      "6:00\n"
     ]
    }
   ],
   "source": [
    "print(time)"
   ]
  },
  {
   "cell_type": "code",
   "execution_count": 14,
   "id": "ab7967ee",
   "metadata": {},
   "outputs": [],
   "source": [
    "tmp=line[line.find('\"')+1:]"
   ]
  },
  {
   "cell_type": "code",
   "execution_count": 15,
   "id": "fccf2d26",
   "metadata": {},
   "outputs": [
    {
     "name": "stdout",
     "output_type": "stream",
     "text": [
      "Pytanie na śniadanie\" nadamy o: 6:00\n"
     ]
    }
   ],
   "source": [
    "print(tmp)"
   ]
  },
  {
   "cell_type": "code",
   "execution_count": 20,
   "id": "2743217c",
   "metadata": {},
   "outputs": [],
   "source": [
    "title=tmp[:tmp.find('\"')]\n"
   ]
  },
  {
   "cell_type": "code",
   "execution_count": 21,
   "id": "7cc2f7f7",
   "metadata": {},
   "outputs": [
    {
     "name": "stdout",
     "output_type": "stream",
     "text": [
      "Pytanie na śniadanie\n"
     ]
    }
   ],
   "source": [
    "print(title)"
   ]
  },
  {
   "cell_type": "code",
   "execution_count": 30,
   "id": "ceb5caa1",
   "metadata": {},
   "outputs": [],
   "source": [
    "hitsTitles=['BROTHERS IN ARMS','BOHEMIAN RHAPSODY','STAIRWAY TO HEAVEN','RIDERS ON THE STORM','WISH YOU WERE HERE']\n"
   ]
  },
  {
   "cell_type": "code",
   "execution_count": 32,
   "id": "8eb800a1",
   "metadata": {},
   "outputs": [],
   "source": [
    "hitsTitles.append('CHILD IN TIME')"
   ]
  },
  {
   "cell_type": "code",
   "execution_count": 33,
   "id": "24573085",
   "metadata": {},
   "outputs": [],
   "source": [
    "hitsTitles.append('AGAIN')"
   ]
  },
  {
   "cell_type": "code",
   "execution_count": 34,
   "id": "4cc5a87d",
   "metadata": {},
   "outputs": [
    {
     "name": "stdout",
     "output_type": "stream",
     "text": [
      "['BROTHERS IN ARMS', 'BOHEMIAN RHAPSODY', 'STAIRWAY TO HEAVEN', 'RIDERS ON THE STORM', 'WISH YOU WERE HERE', 'CHILD IN TIME', 'AGAIN']\n"
     ]
    }
   ],
   "source": [
    "print(hitsTitles)"
   ]
  },
  {
   "cell_type": "code",
   "execution_count": 35,
   "id": "beff92c5",
   "metadata": {},
   "outputs": [],
   "source": [
    "hitsTitles.insert(3, 'HOTEL CALIFORNIA')"
   ]
  },
  {
   "cell_type": "code",
   "execution_count": 36,
   "id": "26c5f1ad",
   "metadata": {},
   "outputs": [
    {
     "name": "stdout",
     "output_type": "stream",
     "text": [
      "['BROTHERS IN ARMS', 'BOHEMIAN RHAPSODY', 'STAIRWAY TO HEAVEN', 'HOTEL CALIFORNIA', 'RIDERS ON THE STORM', 'WISH YOU WERE HERE', 'CHILD IN TIME', 'AGAIN']\n"
     ]
    }
   ],
   "source": [
    "print(hitsTitles)"
   ]
  },
  {
   "cell_type": "code",
   "execution_count": 2,
   "id": "5855fdd3",
   "metadata": {},
   "outputs": [
    {
     "ename": "NameError",
     "evalue": "name 'hitsTitles' is not defined",
     "output_type": "error",
     "traceback": [
      "\u001b[0;31m---------------------------------------------------------------------------\u001b[0m",
      "\u001b[0;31mNameError\u001b[0m                                 Traceback (most recent call last)",
      "\u001b[0;32m/tmp/ipykernel_3991/2989781951.py\u001b[0m in \u001b[0;36m<module>\u001b[0;34m\u001b[0m\n\u001b[0;32m----> 1\u001b[0;31m \u001b[0mhitsTitles\u001b[0m\u001b[0;34m.\u001b[0m\u001b[0mreplace\u001b[0m\u001b[0;34m[\u001b[0m\u001b[0;36m3\u001b[0m\u001b[0;34m,\u001b[0m\u001b[0;36m0\u001b[0m\u001b[0;34m]\u001b[0m\u001b[0;34m\u001b[0m\u001b[0;34m\u001b[0m\u001b[0m\n\u001b[0m",
      "\u001b[0;31mNameError\u001b[0m: name 'hitsTitles' is not defined"
     ]
    }
   ],
   "source": [
    "hitsTitles.replace[3,0]"
   ]
  },
  {
   "cell_type": "code",
   "execution_count": 3,
   "id": "8c033fd5",
   "metadata": {},
   "outputs": [
    {
     "data": {
      "text/plain": [
       "False"
      ]
     },
     "execution_count": 3,
     "metadata": {},
     "output_type": "execute_result"
    }
   ],
   "source": [
    "wymagana_srednia=3.0\n",
    "wymagana_frekwencja=0.8\n",
    "czy_zaliczona_praca=True\n",
    "srednia_jaka_jest=2.5\n",
    "czy_zaliczona_srednia=srednia_jaka_jest>=wymagana_srednia\n",
    "frekwencja_jaka_jest=0.4\n",
    "czy_zaliczona_frekwencja=frekwencja_jaka_jest>=wymagana_frekwencja\n",
    "(czy_zaliczona_srednia and czy_zaliczona_frekwencja) and czy_zaliczona_praca\n"
   ]
  },
  {
   "cell_type": "code",
   "execution_count": null,
   "id": "fce563f5",
   "metadata": {},
   "outputs": [],
   "source": []
  },
  {
   "cell_type": "code",
   "execution_count": null,
   "id": "4fa50585",
   "metadata": {},
   "outputs": [],
   "source": []
  }
 ],
 "metadata": {
  "kernelspec": {
   "display_name": "Python 3 (ipykernel)",
   "language": "python",
   "name": "python3"
  },
  "language_info": {
   "codemirror_mode": {
    "name": "ipython",
    "version": 3
   },
   "file_extension": ".py",
   "mimetype": "text/x-python",
   "name": "python",
   "nbconvert_exporter": "python",
   "pygments_lexer": "ipython3",
   "version": "3.9.7"
  }
 },
 "nbformat": 4,
 "nbformat_minor": 5
}
