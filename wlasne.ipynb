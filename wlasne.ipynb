{
 "cells": [
  {
   "cell_type": "code",
   "execution_count": 26,
   "id": "b149a134",
   "metadata": {},
   "outputs": [],
   "source": [
    "def last(lista):\n",
    "    ostatni_indeks=len(lista)-1\n",
    "    print(lista[ostatni_indeks])"
   ]
  },
  {
   "cell_type": "code",
   "execution_count": 27,
   "id": "2cf3ac8e",
   "metadata": {},
   "outputs": [
    {
     "name": "stdout",
     "output_type": "stream",
     "text": [
      "11\n"
     ]
    }
   ],
   "source": [
    "lista=[5,6,7,8,9,10,11]\n",
    "last(lista)"
   ]
  },
  {
   "cell_type": "code",
   "execution_count": null,
   "id": "2029d902",
   "metadata": {},
   "outputs": [],
   "source": [
    "print()"
   ]
  },
  {
   "cell_type": "code",
   "execution_count": null,
   "id": "940e9fde",
   "metadata": {},
   "outputs": [],
   "source": []
  }
 ],
 "metadata": {
  "kernelspec": {
   "display_name": "Python 3 (ipykernel)",
   "language": "python",
   "name": "python3"
  },
  "language_info": {
   "codemirror_mode": {
    "name": "ipython",
    "version": 3
   },
   "file_extension": ".py",
   "mimetype": "text/x-python",
   "name": "python",
   "nbconvert_exporter": "python",
   "pygments_lexer": "ipython3",
   "version": "3.9.7"
  }
 },
 "nbformat": 4,
 "nbformat_minor": 5
}
