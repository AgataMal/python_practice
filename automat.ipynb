{
 "cells": [
  {
   "cell_type": "markdown",
   "id": "0b96b15d",
   "metadata": {},
   "source": [
    "```\n",
    " def wybierz(self, wybrany_produkt):\n",
    "        return self.produkty[int(wybrany_produkt)].pop(0)\n",
    "```\n",
    "\n",
    "Wybrany produkt to jest **numer z klawiatury**\n",
    "\n",
    "Definicje funkcji na obiekcie maja jako pierwszy parameter zawsze **self** ktory uzywa sie jako dostęp do zmiennych wewnetrznych\n",
    "\n",
    "\n",
    "\n",
    "\n",
    "\n",
    "```\n",
    "produkty[0] self.produkty.append( batony.append(baton,baton,baton,baton,baton))\n",
    "produkty[1] self.produkty.append( napoje.append(napoj,napoj,napoj,napoj,napoj))\n",
    "produkty[2] self.produkty.append( chipsy.append(chipsy,chipsy,chipsy,chipsy,chipsy))\n",
    "\n",
    "``` "
   ]
  },
  {
   "cell_type": "code",
   "execution_count": 23,
   "id": "c679d20f",
   "metadata": {},
   "outputs": [],
   "source": [
    "class Automat:\n",
    "    produkty=[] #pusty nawias oznacza \"pustą tablice\"\n",
    "    def __init__(self):\n",
    "        pass\n",
    "\n",
    "    def wybierz(self, wybrany_produkt):\n",
    "        return self.produkty[int(wybrany_produkt)].pop(0) # \"int\" probuje zrobić liczbę z tego co wpisujemy\n",
    "                                                          # \"pop\"- po wyjęciu wszystkich batonów (tu było ich 10),\n",
    "                                                         # nie dostaniemy juz kolejnego.\n",
    "    def zaladuj(self):\n",
    "        batony=[] \n",
    "        napoje=[]\n",
    "        chipsy=[]\n",
    "        for x in range(10):\n",
    "            batony.append(Produkt(\"baton\")) # Do listy batonow dodaj \"Baton\"\n",
    "            napoje.append(Produkt(\"napoj\"))\n",
    "            chipsy.append(Produkt(\"chipsy\"))\n",
    "            \n",
    "        self.produkty.append(batony)\n",
    "        self.produkty.append(napoje)\n",
    "        self.produkty.append(chipsy)\n",
    "        \n",
    "\n",
    "class Produkt:\n",
    "    def __init__(self,nazwa): \n",
    "        self.nazwa=nazwa\n",
    "    def nazwa_produktu(self):\n",
    "        print(self.nazwa)\n",
    "        \n",
    "              \n",
    "    "
   ]
  },
  {
   "cell_type": "code",
   "execution_count": 27,
   "id": "b3416ca6",
   "metadata": {},
   "outputs": [],
   "source": [
    "automat=Automat()\n",
    "automat.zaladuj()\n"
   ]
  },
  {
   "cell_type": "markdown",
   "id": "1ab92df3",
   "metadata": {},
   "source": [
    "```\n",
    "automat.wybierz(produkt).nazwa_produktu()\n",
    "``` \n",
    "\n",
    "to samo co, zmienna **baton** nie potrzebna\n",
    "\n",
    "```\n",
    "baton=automat.wybierz(numer_produktu)\n",
    "baton.nazwa_produktu()\n",
    "```"
   ]
  },
  {
   "cell_type": "code",
   "execution_count": null,
   "id": "ffebe307",
   "metadata": {},
   "outputs": [],
   "source": [
    "produkt=input(\"Wybiersz produkt\")\n",
    "automat.wybierz(produkt).nazwa_produktu()"
   ]
  },
  {
   "cell_type": "code",
   "execution_count": null,
   "id": "4c9400df",
   "metadata": {},
   "outputs": [],
   "source": [
    "int(\"okno\")"
   ]
  },
  {
   "cell_type": "code",
   "execution_count": 11,
   "id": "cb8f98d2",
   "metadata": {},
   "outputs": [
    {
     "data": {
      "text/plain": [
       "10"
      ]
     },
     "execution_count": 11,
     "metadata": {},
     "output_type": "execute_result"
    }
   ],
   "source": [
    "int(\"10\")"
   ]
  },
  {
   "cell_type": "code",
   "execution_count": 12,
   "id": "99e5311e",
   "metadata": {},
   "outputs": [
    {
     "data": {
      "text/plain": [
       "10"
      ]
     },
     "execution_count": 12,
     "metadata": {},
     "output_type": "execute_result"
    }
   ],
   "source": [
    "int(10)"
   ]
  },
  {
   "cell_type": "code",
   "execution_count": 13,
   "id": "2ef02e54",
   "metadata": {},
   "outputs": [
    {
     "data": {
      "text/plain": [
       "'1010'"
      ]
     },
     "execution_count": 13,
     "metadata": {},
     "output_type": "execute_result"
    }
   ],
   "source": [
    "\"10\"+\"10\""
   ]
  },
  {
   "cell_type": "code",
   "execution_count": 14,
   "id": "85ef482f",
   "metadata": {},
   "outputs": [
    {
     "data": {
      "text/plain": [
       "20"
      ]
     },
     "execution_count": 14,
     "metadata": {},
     "output_type": "execute_result"
    }
   ],
   "source": [
    "int(\"10\")+int(\"10\")"
   ]
  },
  {
   "cell_type": "code",
   "execution_count": null,
   "id": "35d575c9",
   "metadata": {},
   "outputs": [],
   "source": []
  }
 ],
 "metadata": {
  "kernelspec": {
   "display_name": "Python 3 (ipykernel)",
   "language": "python",
   "name": "python3"
  },
  "language_info": {
   "codemirror_mode": {
    "name": "ipython",
    "version": 3
   },
   "file_extension": ".py",
   "mimetype": "text/x-python",
   "name": "python",
   "nbconvert_exporter": "python",
   "pygments_lexer": "ipython3",
   "version": "3.9.7"
  }
 },
 "nbformat": 4,
 "nbformat_minor": 5
}
