{
 "cells": [
  {
   "cell_type": "markdown",
   "id": "db58c596",
   "metadata": {},
   "source": [
    "Zasieg zmiennej lokalne jest blokowy czyli\n",
    "* Zmienna zdefiniowana wewnarz funkcji jest \"widoczna\" tylko w srodku|"
   ]
  },
  {
   "cell_type": "code",
   "execution_count": 3,
   "id": "83e0a106",
   "metadata": {},
   "outputs": [
    {
     "name": "stdout",
     "output_type": "stream",
     "text": [
      "5\n"
     ]
    },
    {
     "ename": "NameError",
     "evalue": "name 'a' is not defined",
     "output_type": "error",
     "traceback": [
      "\u001b[0;31m---------------------------------------------------------------------------\u001b[0m",
      "\u001b[0;31mNameError\u001b[0m                                 Traceback (most recent call last)",
      "\u001b[0;32m/tmp/ipykernel_4242/2257111790.py\u001b[0m in \u001b[0;36m<module>\u001b[0;34m\u001b[0m\n\u001b[1;32m      5\u001b[0m \u001b[0;34m\u001b[0m\u001b[0m\n\u001b[1;32m      6\u001b[0m \u001b[0mprint\u001b[0m\u001b[0;34m(\u001b[0m\u001b[0mx\u001b[0m\u001b[0;34m)\u001b[0m\u001b[0;34m\u001b[0m\u001b[0;34m\u001b[0m\u001b[0m\n\u001b[0;32m----> 7\u001b[0;31m \u001b[0mprint\u001b[0m\u001b[0;34m(\u001b[0m\u001b[0ma\u001b[0m\u001b[0;34m+\u001b[0m\u001b[0mb\u001b[0m\u001b[0;34m)\u001b[0m \u001b[0;31m#tu juz nie ma ani a ani b\u001b[0m\u001b[0;34m\u001b[0m\u001b[0;34m\u001b[0m\u001b[0m\n\u001b[0m",
      "\u001b[0;31mNameError\u001b[0m: name 'a' is not defined"
     ]
    }
   ],
   "source": [
    "x=5 # To jest globalne\n",
    "\n",
    "def funkcja(a,b):\n",
    "    print(a+b)    \n",
    "\n",
    "print(x)\n",
    "print(a+b) #tu juz nie ma ani a ani b"
   ]
  },
  {
   "cell_type": "code",
   "execution_count": 10,
   "id": "321f5582",
   "metadata": {},
   "outputs": [],
   "source": [
    "def funkcja(a,b):\n",
    "    z=10\n",
    "    print(z)\n",
    "    print(a+b)\n",
    "#to samo co wyzej"
   ]
  },
  {
   "cell_type": "code",
   "execution_count": 12,
   "id": "5de27c82",
   "metadata": {},
   "outputs": [],
   "source": [
    "x = 5\n",
    "def funkcja(a,b):\n",
    "    print(a+b+x) # X tu jest widoczny, X bedzie widocny poza funkcją(globalnie)"
   ]
  },
  {
   "cell_type": "code",
   "execution_count": 13,
   "id": "ec8aa495",
   "metadata": {},
   "outputs": [
    {
     "name": "stdout",
     "output_type": "stream",
     "text": [
      "30\n"
     ]
    }
   ],
   "source": [
    "x = 5\n",
    "def funkcja(x,b):\n",
    "    print(x+b)\n",
    "    \n",
    "funkcja(10,20)"
   ]
  },
  {
   "cell_type": "code",
   "execution_count": 14,
   "id": "5500140e",
   "metadata": {},
   "outputs": [],
   "source": [
    "def funkcja(a,b):\n",
    "    z = a\n",
    "    print(z+a)"
   ]
  },
  {
   "cell_type": "code",
   "execution_count": null,
   "id": "c8afeeef",
   "metadata": {},
   "outputs": [],
   "source": []
  }
 ],
 "metadata": {
  "kernelspec": {
   "display_name": "Python 3 (ipykernel)",
   "language": "python",
   "name": "python3"
  },
  "language_info": {
   "codemirror_mode": {
    "name": "ipython",
    "version": 3
   },
   "file_extension": ".py",
   "mimetype": "text/x-python",
   "name": "python",
   "nbconvert_exporter": "python",
   "pygments_lexer": "ipython3",
   "version": "3.9.7"
  }
 },
 "nbformat": 4,
 "nbformat_minor": 5
}
