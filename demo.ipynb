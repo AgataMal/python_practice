{
 "cells": [
  {
   "cell_type": "markdown",
   "id": "a7d9bca7",
   "metadata": {},
   "source": [
    "# przypisanie"
   ]
  },
  {
   "cell_type": "code",
   "execution_count": 5,
   "id": "b3496d05",
   "metadata": {},
   "outputs": [],
   "source": [
    "rok_urodzenia= 1988\n",
    "imie= \"Agata\""
   ]
  },
  {
   "cell_type": "code",
   "execution_count": 6,
   "id": "74eb20f2",
   "metadata": {},
   "outputs": [
    {
     "data": {
      "text/plain": [
       "'Agata'"
      ]
     },
     "execution_count": 6,
     "metadata": {},
     "output_type": "execute_result"
    }
   ],
   "source": [
    "imie"
   ]
  },
  {
   "cell_type": "code",
   "execution_count": 7,
   "id": "b9029912",
   "metadata": {},
   "outputs": [],
   "source": [
    "imie_kopia=imie"
   ]
  },
  {
   "cell_type": "code",
   "execution_count": 9,
   "id": "89722cec",
   "metadata": {},
   "outputs": [
    {
     "data": {
      "text/plain": [
       "'Agata'"
      ]
     },
     "execution_count": 9,
     "metadata": {},
     "output_type": "execute_result"
    }
   ],
   "source": [
    "imie_kopia"
   ]
  },
  {
   "cell_type": "code",
   "execution_count": 10,
   "id": "d853e07d",
   "metadata": {},
   "outputs": [],
   "source": [
    "wiek=2022-rok_urodzenia"
   ]
  },
  {
   "cell_type": "code",
   "execution_count": 11,
   "id": "0118a175",
   "metadata": {},
   "outputs": [
    {
     "data": {
      "text/plain": [
       "34"
      ]
     },
     "execution_count": 11,
     "metadata": {},
     "output_type": "execute_result"
    }
   ],
   "source": [
    "wiek"
   ]
  },
  {
   "cell_type": "markdown",
   "id": "9b9c96b5",
   "metadata": {},
   "source": [
    "# if else"
   ]
  },
  {
   "cell_type": "code",
   "execution_count": 12,
   "id": "ef6f0f01",
   "metadata": {},
   "outputs": [
    {
     "name": "stdout",
     "output_type": "stream",
     "text": [
      "stara\n"
     ]
    }
   ],
   "source": [
    "print( \"stara\") if wiek>30 else print (\"mloda\")"
   ]
  },
  {
   "cell_type": "markdown",
   "id": "9f8a40d7",
   "metadata": {},
   "source": [
    "# funkcje"
   ]
  },
  {
   "cell_type": "code",
   "execution_count": 14,
   "id": "d14af642",
   "metadata": {},
   "outputs": [],
   "source": [
    "def czy_stara (wiek):\n",
    "    if wiek >30:\n",
    "        return \"stara\"\n",
    "    else:\n",
    "        return \"mloda\"\n",
    "    elif wiek==30\n",
    "    "
   ]
  },
  {
   "cell_type": "code",
   "execution_count": 15,
   "id": "92ab70b2",
   "metadata": {},
   "outputs": [
    {
     "name": "stdout",
     "output_type": "stream",
     "text": [
      "mloda\n",
      "stara\n"
     ]
    }
   ],
   "source": [
    "print (czy_stara (10))\n",
    "print (czy_stara (31))"
   ]
  },
  {
   "cell_type": "code",
   "execution_count": 30,
   "id": "68802e70",
   "metadata": {},
   "outputs": [],
   "source": [
    "def cena_okna (szerokosc,wysokosc,cena_za_metr):\n",
    "    if szerokosc==0 or wysokosc==0 or cena_za_metr==0:\n",
    "        return -1\n",
    "    elif szerokosc<0 or wysokosc<0 or cena_za_metr<0:\n",
    "        return -2\n",
    "    return szerokosc*wysokosc*cena_za_metr"
   ]
  },
  {
   "cell_type": "code",
   "execution_count": 32,
   "id": "8ceb8ccc",
   "metadata": {},
   "outputs": [
    {
     "name": "stdout",
     "output_type": "stream",
     "text": [
      "1000\n",
      "-1\n",
      "-2\n"
     ]
    }
   ],
   "source": [
    "print (cena_okna(10,20,5))\n",
    "print (cena_okna (10,0,20))\n",
    "print (cena_okna (-10,1,20))"
   ]
  },
  {
   "cell_type": "markdown",
   "id": "3eda67fa",
   "metadata": {},
   "source": [
    "\n",
    "# pętla"
   ]
  },
  {
   "cell_type": "code",
   "execution_count": 3,
   "id": "459046df",
   "metadata": {},
   "outputs": [],
   "source": [
    "def srednia (lista):\n",
    "    suma=0\n",
    "    ilosc=len(lista)\n",
    "    for x in lista:\n",
    "        suma=suma+x #dodaje biezaca wartosc\n",
    "        print (suma)\n",
    "    return suma/ilosc"
   ]
  },
  {
   "cell_type": "code",
   "execution_count": 4,
   "id": "14622c3f",
   "metadata": {},
   "outputs": [
    {
     "name": "stdout",
     "output_type": "stream",
     "text": [
      "3\n",
      "8\n",
      "15\n",
      "23\n",
      "32\n"
     ]
    },
    {
     "data": {
      "text/plain": [
       "6.4"
      ]
     },
     "execution_count": 4,
     "metadata": {},
     "output_type": "execute_result"
    }
   ],
   "source": [
    "numery= (3,5,7,8,9)\n",
    "srednia (numery)"
   ]
  },
  {
   "cell_type": "markdown",
   "id": "94498b25",
   "metadata": {},
   "source": [
    "# strings"
   ]
  },
  {
   "cell_type": "code",
   "execution_count": 9,
   "id": "6c224cc8",
   "metadata": {},
   "outputs": [
    {
     "name": "stdout",
     "output_type": "stream",
     "text": [
      "11\n",
      "a\n",
      " ma kota\n"
     ]
    }
   ],
   "source": [
    "text= \"ala ma kota\"\n",
    "print (len(text))\n",
    "print (text[0])\n",
    "print (text[3:])"
   ]
  },
  {
   "cell_type": "code",
   "execution_count": 10,
   "id": "57c30d98",
   "metadata": {},
   "outputs": [],
   "source": [
    "def napisz(tekst):\n",
    "    for litera in tekst:\n",
    "        print(litera)\n",
    "        "
   ]
  },
  {
   "cell_type": "code",
   "execution_count": 11,
   "id": "540dcc69",
   "metadata": {
    "scrolled": true
   },
   "outputs": [
    {
     "name": "stdout",
     "output_type": "stream",
     "text": [
      "a\n",
      "l\n",
      "a\n",
      " \n",
      "m\n",
      "a\n",
      " \n",
      "k\n",
      "o\n",
      "t\n",
      "a\n"
     ]
    }
   ],
   "source": [
    "napisz (text)"
   ]
  },
  {
   "cell_type": "code",
   "execution_count": 13,
   "id": "052401b5",
   "metadata": {},
   "outputs": [
    {
     "name": "stdout",
     "output_type": "stream",
     "text": [
      "kot ma na imie\n",
      " \"alik\" \n"
     ]
    }
   ],
   "source": [
    "print(\"kot ma na imie\\n \\\"alik\\\" \")"
   ]
  },
  {
   "cell_type": "code",
   "execution_count": 14,
   "id": "74179193",
   "metadata": {},
   "outputs": [
    {
     "name": "stdout",
     "output_type": "stream",
     "text": [
      "ala\n",
      "ma\n",
      "kota\n"
     ]
    }
   ],
   "source": [
    "print (\"\"\"ala\n",
    "ma\n",
    "kota\"\"\")"
   ]
  },
  {
   "cell_type": "code",
   "execution_count": 19,
   "id": "b70e8bb4",
   "metadata": {},
   "outputs": [
    {
     "name": "stdout",
     "output_type": "stream",
     "text": [
      "alamakota\n",
      "ala\n",
      "ma\n",
      "kota\n"
     ]
    }
   ],
   "source": [
    "text1=\"ala\"\n",
    "text2=\"ma\"\n",
    "text3=\"kota\"\n",
    "print(text1+text2+text3)\n",
    "print(\"\\n\".join((text1,text2,text3)))"
   ]
  },
  {
   "cell_type": "code",
   "execution_count": 20,
   "id": "80136dee",
   "metadata": {},
   "outputs": [
    {
     "name": "stdout",
     "output_type": "stream",
     "text": [
      "ala kota\n"
     ]
    }
   ],
   "source": [
    "text=\"ma kota\"\n",
    "print (\"ala\"+text [2:])"
   ]
  },
  {
   "cell_type": "markdown",
   "id": "935ce13f",
   "metadata": {},
   "source": [
    "# lista"
   ]
  },
  {
   "cell_type": "code",
   "execution_count": 1,
   "id": "0519b49d",
   "metadata": {},
   "outputs": [
    {
     "name": "stdout",
     "output_type": "stream",
     "text": [
      "ola\n"
     ]
    }
   ],
   "source": [
    "imiona=[\"ala\",\"ola\",\"ela\"]\n",
    "print(imiona[1])"
   ]
  },
  {
   "cell_type": "code",
   "execution_count": 22,
   "id": "2a1d5f59",
   "metadata": {},
   "outputs": [],
   "source": [
    "def zamien (imiona):\n",
    "    zmienna2=imiona[2]\n",
    "    imiona[2]=imiona[0]\n",
    "    imiona[0]=zmienna2\n",
    "    print(imiona)"
   ]
  },
  {
   "cell_type": "code",
   "execution_count": 23,
   "id": "5d69cdcf",
   "metadata": {},
   "outputs": [
    {
     "name": "stdout",
     "output_type": "stream",
     "text": [
      "['ela', 'ola', 'ala']\n"
     ]
    }
   ],
   "source": [
    "zamien(imiona)"
   ]
  },
  {
   "cell_type": "code",
   "execution_count": 26,
   "id": "ab018471",
   "metadata": {},
   "outputs": [],
   "source": [
    "imiona.append (\"ula\")\n",
    "imiona.append(2)"
   ]
  },
  {
   "cell_type": "code",
   "execution_count": 27,
   "id": "b302ef17",
   "metadata": {},
   "outputs": [
    {
     "data": {
      "text/plain": [
       "['ela', 'ola', 'ala', 'ula', 'ula', 2]"
      ]
     },
     "execution_count": 27,
     "metadata": {},
     "output_type": "execute_result"
    }
   ],
   "source": [
    "imiona"
   ]
  },
  {
   "cell_type": "code",
   "execution_count": 28,
   "id": "a8dfe4b5",
   "metadata": {},
   "outputs": [
    {
     "name": "stdout",
     "output_type": "stream",
     "text": [
      "15\n"
     ]
    }
   ],
   "source": [
    "lista=[1,2,3,4,5]\n",
    "print(sum(lista))"
   ]
  },
  {
   "cell_type": "code",
   "execution_count": 29,
   "id": "1b949f8a",
   "metadata": {},
   "outputs": [],
   "source": [
    "def srednia2(lista):\n",
    "    return sum(lista)/len(lista)\n"
   ]
  },
  {
   "cell_type": "code",
   "execution_count": 30,
   "id": "77a49ca2",
   "metadata": {},
   "outputs": [
    {
     "data": {
      "text/plain": [
       "3.0"
      ]
     },
     "execution_count": 30,
     "metadata": {},
     "output_type": "execute_result"
    }
   ],
   "source": [
    "srednia2([1,2,3,4,5])"
   ]
  },
  {
   "cell_type": "code",
   "execution_count": 31,
   "id": "212e201c",
   "metadata": {},
   "outputs": [
    {
     "data": {
      "text/plain": [
       "3.0"
      ]
     },
     "execution_count": 31,
     "metadata": {},
     "output_type": "execute_result"
    }
   ],
   "source": [
    " srednia2(lista)"
   ]
  },
  {
   "cell_type": "code",
   "execution_count": 4,
   "id": "959e054c",
   "metadata": {},
   "outputs": [],
   "source": [
    "def znajdz_max(lista):\n",
    "    maks=0\n",
    "    for liczba in lista:\n",
    "        if liczba >maks:\n",
    "            maks=liczba\n",
    "            print (maks)\n",
    "    return maks\n",
    "        "
   ]
  },
  {
   "cell_type": "code",
   "execution_count": 6,
   "id": "570f9729",
   "metadata": {},
   "outputs": [
    {
     "name": "stdout",
     "output_type": "stream",
     "text": [
      "3\n",
      "4\n",
      "7\n",
      "8\n"
     ]
    },
    {
     "data": {
      "text/plain": [
       "8"
      ]
     },
     "execution_count": 6,
     "metadata": {},
     "output_type": "execute_result"
    }
   ],
   "source": [
    "znajdz_max([3,4,7,2,8])"
   ]
  },
  {
   "cell_type": "code",
   "execution_count": 4,
   "id": "40f21547",
   "metadata": {},
   "outputs": [
    {
     "name": "stdout",
     "output_type": "stream",
     "text": [
      "5\n"
     ]
    }
   ],
   "source": [
    "n = int(input())"
   ]
  },
  {
   "cell_type": "code",
   "execution_count": 5,
   "id": "e4dd89a8",
   "metadata": {},
   "outputs": [
    {
     "data": {
      "text/plain": [
       "5"
      ]
     },
     "execution_count": 5,
     "metadata": {},
     "output_type": "execute_result"
    }
   ],
   "source": [
    "n"
   ]
  },
  {
   "cell_type": "code",
   "execution_count": 9,
   "id": "b521a417",
   "metadata": {},
   "outputs": [
    {
     "data": {
      "text/plain": [
       "range(0, 5)"
      ]
     },
     "execution_count": 9,
     "metadata": {},
     "output_type": "execute_result"
    }
   ],
   "source": [
    "range(n)"
   ]
  },
  {
   "cell_type": "code",
   "execution_count": 7,
   "id": "caa2256b",
   "metadata": {},
   "outputs": [
    {
     "name": "stdout",
     "output_type": "stream",
     "text": [
      "0-0\n",
      "1-1\n",
      "2-4\n",
      "3-9\n",
      "4-16\n"
     ]
    }
   ],
   "source": [
    "for x in range(n):\n",
    "    print(str(x)+\"-\"+str(x**2))"
   ]
  },
  {
   "cell_type": "code",
   "execution_count": 2,
   "id": "9b04ebc2",
   "metadata": {},
   "outputs": [
    {
     "name": "stdout",
     "output_type": "stream",
     "text": [
      "12345\n"
     ]
    }
   ],
   "source": [
    "n=5\n",
    "wynik=\"\"\n",
    "for liczba in range(n):\n",
    "    wynik+=str(liczba+1)\n",
    "print(wynik)\n",
    "    "
   ]
  },
  {
   "cell_type": "code",
   "execution_count": 6,
   "id": "f47a579f",
   "metadata": {},
   "outputs": [
    {
     "name": "stdout",
     "output_type": "stream",
     "text": [
      "12345"
     ]
    }
   ],
   "source": [
    "n=5\n",
    "for liczba in range(n):\n",
    "    print(liczba+1,end=\"\")# podwójne ciapki -nie dodaje nowej linii na końcu  "
   ]
  },
  {
   "cell_type": "code",
   "execution_count": 45,
   "id": "213463f7",
   "metadata": {},
   "outputs": [],
   "source": [
    "def rysuj(szerokosc,wysokosc):\n",
    "    for wiersz in range(wysokosc):\n",
    "        for kolumna in range (szerokosc):\n",
    "            if wiersz%5==0:\n",
    "                print(\"Y\",end=\"\")\n",
    "            else: \n",
    "                print(\"X\",end=\"\")   \n",
    "        print()\n",
    "        \n"
   ]
  },
  {
   "cell_type": "code",
   "execution_count": 46,
   "id": "eb00bb64",
   "metadata": {},
   "outputs": [
    {
     "name": "stdout",
     "output_type": "stream",
     "text": [
      "YYYYYYYYYYYYYYYYYYYY\n",
      "XXXXXXXXXXXXXXXXXXXX\n",
      "XXXXXXXXXXXXXXXXXXXX\n",
      "XXXXXXXXXXXXXXXXXXXX\n",
      "XXXXXXXXXXXXXXXXXXXX\n",
      "YYYYYYYYYYYYYYYYYYYY\n",
      "XXXXXXXXXXXXXXXXXXXX\n",
      "XXXXXXXXXXXXXXXXXXXX\n",
      "XXXXXXXXXXXXXXXXXXXX\n",
      "XXXXXXXXXXXXXXXXXXXX\n",
      "YYYYYYYYYYYYYYYYYYYY\n",
      "XXXXXXXXXXXXXXXXXXXX\n",
      "XXXXXXXXXXXXXXXXXXXX\n",
      "XXXXXXXXXXXXXXXXXXXX\n",
      "XXXXXXXXXXXXXXXXXXXX\n",
      "YYYYYYYYYYYYYYYYYYYY\n",
      "XXXXXXXXXXXXXXXXXXXX\n",
      "XXXXXXXXXXXXXXXXXXXX\n",
      "XXXXXXXXXXXXXXXXXXXX\n",
      "XXXXXXXXXXXXXXXXXXXX\n",
      "YYYYYYYYYYYYYYYYYYYY\n",
      "XXXXXXXXXXXXXXXXXXXX\n",
      "XXXXXXXXXXXXXXXXXXXX\n",
      "XXXXXXXXXXXXXXXXXXXX\n",
      "XXXXXXXXXXXXXXXXXXXX\n",
      "YYYYYYYYYYYYYYYYYYYY\n",
      "XXXXXXXXXXXXXXXXXXXX\n",
      "XXXXXXXXXXXXXXXXXXXX\n",
      "XXXXXXXXXXXXXXXXXXXX\n",
      "XXXXXXXXXXXXXXXXXXXX\n"
     ]
    }
   ],
   "source": [
    "rysuj(20,30)"
   ]
  },
  {
   "cell_type": "code",
   "execution_count": 9,
   "id": "4bbbc86b",
   "metadata": {},
   "outputs": [],
   "source": [
    "def print_full_name(first, last):\n",
    "    print(\"Hello \" + first +\" \"+last+\"! You just delved into python.\")\n",
    "\n"
   ]
  },
  {
   "cell_type": "code",
   "execution_count": 10,
   "id": "57cb2bf0",
   "metadata": {},
   "outputs": [
    {
     "name": "stdout",
     "output_type": "stream",
     "text": [
      "\n",
      "aga\n",
      "Hello  aga! You just delved into python.\n"
     ]
    }
   ],
   "source": [
    "first_name = input()\n",
    "last_name = input()\n",
    " "
   ]
  },
  {
   "cell_type": "code",
   "execution_count": 6,
   "id": "12cc9b65",
   "metadata": {},
   "outputs": [],
   "source": [
    "def duplikaty(lista1,lista2):\n",
    "    for i in range(len(lista1)):\n",
    "        if lista1[i]==lista2[i]:\n",
    "            print(lista1[i])"
   ]
  },
  {
   "cell_type": "code",
   "execution_count": 7,
   "id": "a325d8e2",
   "metadata": {},
   "outputs": [
    {
     "name": "stdout",
     "output_type": "stream",
     "text": [
      "3\n",
      "2\n"
     ]
    }
   ],
   "source": [
    "lista1=[1,3,4,8,2]\n",
    "lista2=[5,3,7,7,2]\n",
    "duplikaty(lista1,lista2)"
   ]
  },
  {
   "cell_type": "code",
   "execution_count": 8,
   "id": "31643130",
   "metadata": {},
   "outputs": [],
   "source": [
    "def zera(lista1,lista2):\n",
    "    for i in range(len(lista1)):\n",
    "        if lista1[i]==lista2[i]:\n",
    "            lista1[i]=0\n",
    "            lista2[i]=0\n",
    "    print(lista1)\n",
    "    print(lista2)\n",
    "    "
   ]
  },
  {
   "cell_type": "code",
   "execution_count": 10,
   "id": "69f32eb0",
   "metadata": {},
   "outputs": [
    {
     "name": "stdout",
     "output_type": "stream",
     "text": [
      "[1, 0, 4, 8, 0]\n",
      "[5, 0, 7, 7, 0]\n"
     ]
    }
   ],
   "source": [
    "zera([1,3,4,8,2],[5,3,7,7,2])"
   ]
  },
  {
   "cell_type": "code",
   "execution_count": 30,
   "id": "3fff5db8",
   "metadata": {},
   "outputs": [],
   "source": [
    "def swap_case(s):\n",
    "    for i in range(len(s)):\n",
    "        \n",
    "        if s[i].isupper():\n",
    "            s[i]=s[i].lower()\n",
    "            \n",
    "        if s[i].islower():\n",
    "            s[i]=s[i].upper()\n",
    "            \n",
    "        print(s[i])"
   ]
  },
  {
   "cell_type": "code",
   "execution_count": 32,
   "id": "7fa7944d",
   "metadata": {},
   "outputs": [],
   "source": [
    "def swap_case(s):\n",
    "    result = \"\"\n",
    "    for letter in s:\n",
    "        if letter == letter.upper():\n",
    "            result += letter.lower()#+= to samo co result=result+letter.lower() \n",
    "        else:\n",
    "            result += letter.upper()\n",
    "    return result"
   ]
  },
  {
   "cell_type": "code",
   "execution_count": 33,
   "id": "270b147a",
   "metadata": {
    "scrolled": true
   },
   "outputs": [
    {
     "data": {
      "text/plain": [
       "'LALAa'"
      ]
     },
     "execution_count": 33,
     "metadata": {},
     "output_type": "execute_result"
    }
   ],
   "source": [
    "swap_case(\"lalaA\")"
   ]
  },
  {
   "cell_type": "code",
   "execution_count": 3,
   "id": "acf6f01b",
   "metadata": {},
   "outputs": [
    {
     "name": "stdout",
     "output_type": "stream",
     "text": [
      "1\n",
      "1.3333333333333333\n"
     ]
    }
   ],
   "source": [
    "a=4\n",
    "b=3\n",
    "print(int (a/b))\n",
    "print(a/b)"
   ]
  },
  {
   "cell_type": "code",
   "execution_count": 5,
   "id": "353f098d",
   "metadata": {},
   "outputs": [],
   "source": [
    "def split_and_join(line):\n",
    "    podzielone=line.split(\" \")\n",
    "    polaczone=\"-\".join(podzielone)\n",
    "    return polaczone\n"
   ]
  },
  {
   "cell_type": "code",
   "execution_count": 6,
   "id": "9142d5fa",
   "metadata": {},
   "outputs": [
    {
     "name": "stdout",
     "output_type": "stream",
     "text": [
      "ala-ma-kota\n"
     ]
    }
   ],
   "source": [
    "print(split_and_join(\"ala ma kota\"))"
   ]
  },
  {
   "cell_type": "markdown",
   "id": "806a8037",
   "metadata": {},
   "source": [
    "# keywords\n"
   ]
  },
  {
   "cell_type": "code",
   "execution_count": 10,
   "id": "49a79886",
   "metadata": {},
   "outputs": [],
   "source": [
    "def cena_okna(cena_za_metr,szerokosc=20,wysokosc=20):\n",
    "    print(cena_za_metr*szerokosc*wysokosc)"
   ]
  },
  {
   "cell_type": "code",
   "execution_count": 11,
   "id": "4d52fbde",
   "metadata": {},
   "outputs": [
    {
     "name": "stdout",
     "output_type": "stream",
     "text": [
      "400\n"
     ]
    }
   ],
   "source": [
    "cena_okna(1)"
   ]
  },
  {
   "cell_type": "code",
   "execution_count": 13,
   "id": "784ec3bb",
   "metadata": {},
   "outputs": [
    {
     "name": "stdout",
     "output_type": "stream",
     "text": [
      "1\n"
     ]
    }
   ],
   "source": [
    "cena_okna(1,1,1\n",
    "         )"
   ]
  },
  {
   "cell_type": "code",
   "execution_count": 16,
   "id": "08dc91aa",
   "metadata": {},
   "outputs": [
    {
     "name": "stdout",
     "output_type": "stream",
     "text": [
      "100\n"
     ]
    }
   ],
   "source": [
    "cena_okna(1,szerokosc=10,wysokosc=10)"
   ]
  },
  {
   "cell_type": "code",
   "execution_count": 21,
   "id": "86c0f92a",
   "metadata": {},
   "outputs": [
    {
     "data": {
      "text/plain": [
       "True"
      ]
     },
     "execution_count": 21,
     "metadata": {},
     "output_type": "execute_result"
    }
   ],
   "source": [
    "lista=[True,False,True]\n",
    "\n",
    "any(lista)"
   ]
  },
  {
   "cell_type": "code",
   "execution_count": 22,
   "id": "1e053272",
   "metadata": {},
   "outputs": [
    {
     "data": {
      "text/plain": [
       "['ala', 'ma', 'kota']"
      ]
     },
     "execution_count": 22,
     "metadata": {},
     "output_type": "execute_result"
    }
   ],
   "source": [
    "\"ala ma kota\".split()"
   ]
  },
  {
   "cell_type": "code",
   "execution_count": null,
   "id": "4dc42c57",
   "metadata": {},
   "outputs": [],
   "source": []
  }
 ],
 "metadata": {
  "kernelspec": {
   "display_name": "Python 3 (ipykernel)",
   "language": "python",
   "name": "python3"
  },
  "language_info": {
   "codemirror_mode": {
    "name": "ipython",
    "version": 3
   },
   "file_extension": ".py",
   "mimetype": "text/x-python",
   "name": "python",
   "nbconvert_exporter": "python",
   "pygments_lexer": "ipython3",
   "version": "3.9.7"
  }
 },
 "nbformat": 4,
 "nbformat_minor": 5
}
