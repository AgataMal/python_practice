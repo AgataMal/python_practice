{
 "cells": [
  {
   "cell_type": "code",
   "execution_count": 3,
   "id": "abda2879",
   "metadata": {},
   "outputs": [],
   "source": [
    "def srednia(lista_liczb):\n",
    "    suma=0\n",
    "    for x in lista_liczb:\n",
    "        suma+=x\n",
    "    return suma/len(lista_liczb)   "
   ]
  },
  {
   "cell_type": "code",
   "execution_count": 4,
   "id": "42c8c76e",
   "metadata": {},
   "outputs": [
    {
     "name": "stdout",
     "output_type": "stream",
     "text": [
      "3.0\n"
     ]
    }
   ],
   "source": [
    "lista_liczb=[1,2,3,4,5]\n",
    "print(srednia(lista_liczb))"
   ]
  },
  {
   "cell_type": "code",
   "execution_count": 5,
   "id": "35874795",
   "metadata": {},
   "outputs": [],
   "source": [
    "def najwieksza(lista_liczb):\n",
    "    najwieksza=0\n",
    "    for x in lista_liczb:\n",
    "        if x>najwieksza:\n",
    "            najwieksza=x\n",
    "    return najwieksza\n"
   ]
  },
  {
   "cell_type": "code",
   "execution_count": 7,
   "id": "aedee35d",
   "metadata": {},
   "outputs": [
    {
     "name": "stdout",
     "output_type": "stream",
     "text": [
      "9\n"
     ]
    }
   ],
   "source": [
    "print(najwieksza([9,8,3,6,1]))"
   ]
  },
  {
   "cell_type": "code",
   "execution_count": 8,
   "id": "71378911",
   "metadata": {},
   "outputs": [],
   "source": [
    "def najmniejsza(lista_liczb):\n",
    "    najwieksza=100000\n",
    "    for x in lista_liczb:\n",
    "        if x <najwieksza:\n",
    "            najwieksza=x\n",
    "    return najwieksza "
   ]
  },
  {
   "cell_type": "code",
   "execution_count": 9,
   "id": "cc1e7acd",
   "metadata": {},
   "outputs": [
    {
     "name": "stdout",
     "output_type": "stream",
     "text": [
      "1\n"
     ]
    }
   ],
   "source": [
    "print(najmniejsza(lista_liczb))\n",
    "    "
   ]
  },
  {
   "cell_type": "code",
   "execution_count": null,
   "id": "9a9b07c9",
   "metadata": {},
   "outputs": [],
   "source": []
  }
 ],
 "metadata": {
  "kernelspec": {
   "display_name": "Python 3 (ipykernel)",
   "language": "python",
   "name": "python3"
  },
  "language_info": {
   "codemirror_mode": {
    "name": "ipython",
    "version": 3
   },
   "file_extension": ".py",
   "mimetype": "text/x-python",
   "name": "python",
   "nbconvert_exporter": "python",
   "pygments_lexer": "ipython3",
   "version": "3.9.7"
  }
 },
 "nbformat": 4,
 "nbformat_minor": 5
}
