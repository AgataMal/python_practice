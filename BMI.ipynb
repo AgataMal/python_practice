{
 "cells": [
  {
   "cell_type": "code",
   "execution_count": null,
   "id": "37bbd539",
   "metadata": {},
   "outputs": [],
   "source": [
    "def czy_gruby(wzrost,waga):\n",
    "    BMI=waga/wzrost*wzrost\n",
    "\n",
    "    if BMI <18.5:\n",
    "        print(\"niedowaga\")\n",
    "    else:\n",
    "        if BMI>=18.5 and BMI<=24.9:\n",
    "            print(\"norma\")\n",
    "        elif BMI>=25 and BMI<=29.9:\n",
    "            print(\"nadwaga\")\n",
    "        elif BMI>=30 and BMI<=34.9:\n",
    "            print(\"otyłość\")\n",
    "        elif BMI>35:\n",
    "            print(\"otyłość kliniczna\")\n"
   ]
  },
  {
   "cell_type": "code",
   "execution_count": null,
   "id": "69159f38",
   "metadata": {},
   "outputs": [],
   "source": [
    "wzrost=input()\n"
   ]
  },
  {
   "cell_type": "code",
   "execution_count": null,
   "id": "7096b9ff",
   "metadata": {},
   "outputs": [],
   "source": [
    "waga=input()"
   ]
  },
  {
   "cell_type": "code",
   "execution_count": null,
   "id": "6ce0be3b",
   "metadata": {},
   "outputs": [],
   "source": [
    "czy_gruby(int(wzrost,waga))"
   ]
  },
  {
   "cell_type": "code",
   "execution_count": null,
   "id": "d1616680",
   "metadata": {},
   "outputs": [],
   "source": []
  },
  {
   "cell_type": "code",
   "execution_count": null,
   "id": "5904bdd8",
   "metadata": {},
   "outputs": [],
   "source": []
  }
 ],
 "metadata": {
  "kernelspec": {
   "display_name": "Python 3 (ipykernel)",
   "language": "python",
   "name": "python3"
  },
  "language_info": {
   "codemirror_mode": {
    "name": "ipython",
    "version": 3
   },
   "file_extension": ".py",
   "mimetype": "text/x-python",
   "name": "python",
   "nbconvert_exporter": "python",
   "pygments_lexer": "ipython3",
   "version": "3.9.7"
  }
 },
 "nbformat": 4,
 "nbformat_minor": 5
}
