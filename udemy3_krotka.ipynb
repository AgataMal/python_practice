{
 "cells": [
  {
   "cell_type": "code",
   "execution_count": 2,
   "id": "249dd1de",
   "metadata": {},
   "outputs": [],
   "source": [
    "marketing=['loyality program','client promotion','market research']"
   ]
  },
  {
   "cell_type": "code",
   "execution_count": 3,
   "id": "61823bde",
   "metadata": {},
   "outputs": [],
   "source": [
    "marketing.append('public relations')"
   ]
  },
  {
   "cell_type": "code",
   "execution_count": 4,
   "id": "bf8ef1ac",
   "metadata": {},
   "outputs": [
    {
     "data": {
      "text/plain": [
       "['loyality program', 'client promotion', 'market research', 'public relations']"
      ]
     },
     "execution_count": 4,
     "metadata": {},
     "output_type": "execute_result"
    }
   ],
   "source": [
    "marketing"
   ]
  },
  {
   "cell_type": "code",
   "execution_count": 5,
   "id": "d7ef2d09",
   "metadata": {},
   "outputs": [
    {
     "data": {
      "text/plain": [
       "'market research'"
      ]
     },
     "execution_count": 5,
     "metadata": {},
     "output_type": "execute_result"
    }
   ],
   "source": [
    "marketing[2]"
   ]
  },
  {
   "cell_type": "code",
   "execution_count": 7,
   "id": "1bb1a882",
   "metadata": {},
   "outputs": [],
   "source": [
    "marketing[1]='investor relations'"
   ]
  },
  {
   "cell_type": "code",
   "execution_count": null,
   "id": "92f2dcfd",
   "metadata": {},
   "outputs": [],
   "source": [
    "marketing"
   ]
  },
  {
   "cell_type": "markdown",
   "id": "a12bf006",
   "metadata": {},
   "source": []
  },
  {
   "cell_type": "code",
   "execution_count": 10,
   "id": "b70a1c24",
   "metadata": {},
   "outputs": [],
   "source": [
    "emailMarketing=marketing.copy()"
   ]
  },
  {
   "cell_type": "code",
   "execution_count": 11,
   "id": "866701ab",
   "metadata": {},
   "outputs": [
    {
     "data": {
      "text/plain": [
       "['loyality program',\n",
       " 'investor relations',\n",
       " 'market research',\n",
       " 'public relations']"
      ]
     },
     "execution_count": 11,
     "metadata": {},
     "output_type": "execute_result"
    }
   ],
   "source": [
    "emailMarketing"
   ]
  },
  {
   "cell_type": "code",
   "execution_count": 13,
   "id": "c8a77d6d",
   "metadata": {},
   "outputs": [],
   "source": [
    "  emailMarketing.sort()"
   ]
  },
  {
   "cell_type": "code",
   "execution_count": 14,
   "id": "dfbd9abe",
   "metadata": {},
   "outputs": [
    {
     "data": {
      "text/plain": [
       "['investor relations',\n",
       " 'loyality program',\n",
       " 'market research',\n",
       " 'public relations']"
      ]
     },
     "execution_count": 14,
     "metadata": {},
     "output_type": "execute_result"
    }
   ],
   "source": [
    "emailMarketing"
   ]
  },
  {
   "cell_type": "code",
   "execution_count": 15,
   "id": "ec85a9ce",
   "metadata": {},
   "outputs": [],
   "source": [
    "internalEmails= ['internal communication']"
   ]
  },
  {
   "cell_type": "code",
   "execution_count": 19,
   "id": "82d237b8",
   "metadata": {},
   "outputs": [],
   "source": [
    "emailMarketing.extend(internalEmails)"
   ]
  },
  {
   "cell_type": "code",
   "execution_count": 20,
   "id": "4298ae48",
   "metadata": {},
   "outputs": [
    {
     "data": {
      "text/plain": [
       "['investor relations',\n",
       " 'loyality program',\n",
       " 'market research',\n",
       " 'public relations',\n",
       " ['internal communication'],\n",
       " 'internal communication']"
      ]
     },
     "execution_count": 20,
     "metadata": {},
     "output_type": "execute_result"
    }
   ],
   "source": [
    "emailMarketing"
   ]
  },
  {
   "cell_type": "code",
   "execution_count": 25,
   "id": "29a8316c",
   "metadata": {},
   "outputs": [
    {
     "data": {
      "text/plain": [
       "('investor relations',\n",
       " 'loyality program',\n",
       " 'market research',\n",
       " 'public relations',\n",
       " ['internal communication'],\n",
       " 'internal communication')"
      ]
     },
     "execution_count": 25,
     "metadata": {},
     "output_type": "execute_result"
    }
   ],
   "source": [
    "tuple(emailMarketing)"
   ]
  },
  {
   "cell_type": "code",
   "execution_count": 41,
   "id": "1f56f29a",
   "metadata": {},
   "outputs": [],
   "source": [
    "chanels={'Google':'1480','Email':'300','Natural Traffic':'440','TV Spot':'700'}"
   ]
  },
  {
   "cell_type": "code",
   "execution_count": 42,
   "id": "ff9b4082",
   "metadata": {},
   "outputs": [
    {
     "data": {
      "text/plain": [
       "'300'"
      ]
     },
     "execution_count": 42,
     "metadata": {},
     "output_type": "execute_result"
    }
   ],
   "source": [
    "chanels['Email']"
   ]
  },
  {
   "cell_type": "code",
   "execution_count": 43,
   "id": "f0f5bc60",
   "metadata": {},
   "outputs": [],
   "source": [
    "chanelsUpdate={'Natural Traffic':'520','News':'600'}"
   ]
  },
  {
   "cell_type": "code",
   "execution_count": 44,
   "id": "07d593b1",
   "metadata": {},
   "outputs": [],
   "source": [
    "chanels.update(chanelsUpdate)"
   ]
  },
  {
   "cell_type": "code",
   "execution_count": 46,
   "id": "8738f4e2",
   "metadata": {},
   "outputs": [
    {
     "data": {
      "text/plain": [
       "{'Google': '1480',\n",
       " 'Email': '300',\n",
       " 'Natural Traffic': '520',\n",
       " 'TV Spot': '700',\n",
       " 'News': '600'}"
      ]
     },
     "execution_count": 46,
     "metadata": {},
     "output_type": "execute_result"
    }
   ],
   "source": [
    "chanels"
   ]
  },
  {
   "cell_type": "code",
   "execution_count": 48,
   "id": "ac9d4189",
   "metadata": {},
   "outputs": [
    {
     "data": {
      "text/plain": [
       "dict_keys(['Google', 'Email', 'Natural Traffic', 'TV Spot', 'News'])"
      ]
     },
     "execution_count": 48,
     "metadata": {},
     "output_type": "execute_result"
    }
   ],
   "source": [
    "chanels.keys()"
   ]
  },
  {
   "cell_type": "code",
   "execution_count": 51,
   "id": "6746d598",
   "metadata": {},
   "outputs": [
    {
     "data": {
      "text/plain": [
       "'300'"
      ]
     },
     "execution_count": 51,
     "metadata": {},
     "output_type": "execute_result"
    }
   ],
   "source": [
    "chanels.pop('Email')"
   ]
  },
  {
   "cell_type": "code",
   "execution_count": 52,
   "id": "2a1232e4",
   "metadata": {},
   "outputs": [
    {
     "data": {
      "text/plain": [
       "{'Google': '1480', 'Natural Traffic': '520', 'TV Spot': '700', 'News': '600'}"
      ]
     },
     "execution_count": 52,
     "metadata": {},
     "output_type": "execute_result"
    }
   ],
   "source": [
    "chanels"
   ]
  },
  {
   "cell_type": "code",
   "execution_count": 11,
   "id": "9f73e706",
   "metadata": {},
   "outputs": [],
   "source": [
    "MIN_LIKES =500 \n",
    "MIN_SHARES =100\n",
    "num_likes= 100\n",
    "num_shares =30"
   ]
  },
  {
   "cell_type": "code",
   "execution_count": 13,
   "id": "3f7135b5",
   "metadata": {},
   "outputs": [
    {
     "name": "stdout",
     "output_type": "stream",
     "text": [
      "niewystarczająca ilość lajków\n"
     ]
    }
   ],
   "source": [
    "if num_likes>= MIN_LIKES and num_shares>=MIN_SHARES:\n",
    "    print ('Obniżka ceny')\n",
    "else: \n",
    "    print('niewystarczająca ilość lajków')"
   ]
  },
  {
   "cell_type": "code",
   "execution_count": 20,
   "id": "da638e65",
   "metadata": {},
   "outputs": [
    {
     "name": "stdout",
     "output_type": "stream",
     "text": [
      "promocja dotyczy weekendów\n"
     ]
    }
   ],
   "source": [
    "isPizzaOrdered=False\n",
    "isBigDrinkOrdered=False\n",
    "isWeekend=True\n",
    "\n",
    "if (isPizzaOrdered or isBigDrinkOrdered) and not isWeekend:\n",
    "    print ('kupon na zakupy')\n",
    "else:\n",
    "    if isWeekend:\n",
    "        print('promocja dotyczy weekendów')\n",
    "    \n",
    "    else: \n",
    "        print ('należy kupić duzą pizze lub duzy napój')\n",
    "    "
   ]
  },
  {
   "cell_type": "code",
   "execution_count": 7,
   "id": "92e892d3",
   "metadata": {},
   "outputs": [],
   "source": [
    "musclePain=False\n",
    "fever=True\n",
    "weakness=True\n",
    "isMan=True"
   ]
  },
  {
   "cell_type": "code",
   "execution_count": 3,
   "id": "3ff1abef",
   "metadata": {},
   "outputs": [
    {
     "name": "stdout",
     "output_type": "stream",
     "text": [
      "The flu is unlikely\n"
     ]
    }
   ],
   "source": [
    "if musclePain and fever and weakness:\n",
    "    print(\"suspicion of influenza\")\n",
    "else:\n",
    "    print(\"The flu is unlikely\")"
   ]
  },
  {
   "cell_type": "code",
   "execution_count": 5,
   "id": "28754c7d",
   "metadata": {},
   "outputs": [
    {
     "name": "stdout",
     "output_type": "stream",
     "text": [
      "Just take a rest!\n"
     ]
    }
   ],
   "source": [
    "if musclePain and fever and weakness:\n",
    "    print(\"suspicion of influenza\")\n",
    "elif  not (musclePain and fever) and weakness:\n",
    "    print(\"Just take a rest!\")\n",
    "else:\n",
    "    print(\"you may be cold\")"
   ]
  },
  {
   "cell_type": "code",
   "execution_count": 11,
   "id": "09d41530",
   "metadata": {},
   "outputs": [
    {
     "name": "stdout",
     "output_type": "stream",
     "text": [
      "suspicion of influenza\n"
     ]
    }
   ],
   "source": [
    "if musclePain and fever and weakness:\n",
    "    print(\"suspicion of influenza\")\n",
    "elif (musclePain or fever or weakness) and isMan:\n",
    "    print(\"suspicion of influenza\")\n",
    "else:\n",
    "    print(\"you may be cold\")"
   ]
  },
  {
   "cell_type": "code",
   "execution_count": 14,
   "id": "9dedd14c",
   "metadata": {},
   "outputs": [
    {
     "name": "stdout",
     "output_type": "stream",
     "text": [
      "CHECK IS COMPLETED\n"
     ]
    }
   ],
   "source": [
    "isCheckCompleted=True\n",
    "print(\"CHECK IS COMPLETED\" if isCheckCompleted else \"CHECK NOT DONE YET!\")"
   ]
  },
  {
   "cell_type": "code",
   "execution_count": 5,
   "id": "344fe5c8",
   "metadata": {},
   "outputs": [
    {
     "name": "stdout",
     "output_type": "stream",
     "text": [
      "Row number 1\n",
      "Row number 2\n",
      "Row number 3\n",
      "Row number 4\n",
      "Row number 5\n",
      "Row number 6\n",
      "Row number 7\n",
      "Row number 8\n",
      "Row number 9\n",
      "Row number 10\n",
      "Row number 11\n",
      "Row number 12\n",
      "Row number 13\n",
      "Row number 14\n",
      "Row number 15\n",
      "Row number 16\n",
      "Row number 17\n",
      "Row number 18\n",
      "Row number 19\n",
      "Row number 20\n",
      "Row number 21\n",
      "Row number 22\n",
      "Row number 23\n",
      "Row number 24\n",
      "Row number 25\n",
      "Row number 26\n",
      "Row number 27\n",
      "Row number 28\n",
      "Row number 29\n",
      "Row number 30\n",
      "Row number 31\n"
     ]
    }
   ],
   "source": [
    "firstRow=1\n",
    "lastRow=31\n",
    "currentRow=firstRow\n",
    "while currentRow<=lastRow:\n",
    "    print(\"Row number\", currentRow)\n",
    "    currentRow+=1"
   ]
  },
  {
   "cell_type": "code",
   "execution_count": 7,
   "id": "4a1e33aa",
   "metadata": {},
   "outputs": [
    {
     "name": "stdout",
     "output_type": "stream",
     "text": [
      "1 1 1\n",
      "2 4 8\n",
      "3 9 27\n",
      "4 16 64\n",
      "5 25 125\n",
      "6 36 216\n",
      "7 49 343\n",
      "8 64 512\n",
      "9 81 729\n",
      "10 100 1000\n",
      "11 121 1331\n",
      "12 144 1728\n",
      "13 169 2197\n"
     ]
    }
   ],
   "source": [
    "i=1\n",
    "imax=13\n",
    "while i<=imax:\n",
    "    print(i, i**2,i**3)\n",
    "    i+=1"
   ]
  },
  {
   "cell_type": "code",
   "execution_count": null,
   "id": "08bf46f9",
   "metadata": {},
   "outputs": [],
   "source": [
    "start=0\n",
    "end=16\n",
    "x=start"
   ]
  },
  {
   "cell_type": "code",
   "execution_count": 2,
   "id": "1cbde18c",
   "metadata": {},
   "outputs": [
    {
     "name": "stdout",
     "output_type": "stream",
     "text": [
      "ERROR\n",
      "File cannot be open\n",
      "ERROR\n",
      "No free space on disk\n",
      "ERROR\n",
      "File missing\n",
      "WARNING\n",
      "Internet connection lost\n",
      "ERROR\n",
      "Access denied\n"
     ]
    }
   ],
   "source": [
    "for s in data:\n",
    " \n",
    "    elements = s.split(':')\n",
    "    print(elements[0].upper())\n",
    "    print(elements[1])"
   ]
  },
  {
   "cell_type": "code",
   "execution_count": 3,
   "id": "2a43e978",
   "metadata": {},
   "outputs": [
    {
     "name": "stdout",
     "output_type": "stream",
     "text": [
      "FILE CANNOT BE OPEN\n",
      "NO FREE SPACE ON DISK\n",
      "FILE MISSING\n",
      "Internet connection lost\n",
      "ACCESS DENIED\n"
     ]
    }
   ],
   "source": [
    "for s in data:\n",
    " \n",
    "    elements = s.split(':')\n",
    "    if elements[0] == 'Error':\n",
    "        print(elements[1].upper())\n",
    "    else:\n",
    "        print(elements[1])"
   ]
  },
  {
   "cell_type": "code",
   "execution_count": 21,
   "id": "579fbe18",
   "metadata": {},
   "outputs": [
    {
     "name": "stdout",
     "output_type": "stream",
     "text": [
      "1\n",
      "2\n",
      "6\n",
      "24\n",
      "120\n",
      "720\n",
      "5040\n",
      "40320\n",
      "362880\n"
     ]
    }
   ],
   "source": [
    "result=1\n",
    "for i in range (1,10):\n",
    "    result*=i\n",
    "    print(result)\n",
    "\n",
    "        "
   ]
  },
  {
   "cell_type": "code",
   "execution_count": null,
   "id": "da5f90c2",
   "metadata": {},
   "outputs": [],
   "source": [
    "result=1\n",
    "for i in range (1,10):\n",
    "    result*=i\n",
    "    print(result)\n"
   ]
  },
  {
   "cell_type": "code",
   "execution_count": 27,
   "id": "ed9f7bdd",
   "metadata": {},
   "outputs": [
    {
     "name": "stdout",
     "output_type": "stream",
     "text": [
      "dog dirty\n",
      "dog big\n",
      "dog hot\n",
      "dog colorful\n",
      "dog fast\n",
      "potato dirty\n",
      "potato big\n",
      "potato hot\n",
      "potato colorful\n",
      "potato fast\n",
      "meal dirty\n",
      "meal big\n",
      "meal hot\n",
      "meal colorful\n",
      "meal fast\n",
      "icecream dirty\n",
      "icecream big\n",
      "icecream hot\n",
      "icecream colorful\n",
      "icecream fast\n",
      "car dirty\n",
      "car big\n",
      "car hot\n",
      "car colorful\n",
      "car fast\n"
     ]
    }
   ],
   "source": [
    "list_noun = ['dog', 'potato', 'meal', 'icecream', 'car']\n",
    "list_adjective = ['dirty', 'big', 'hot', 'colorful', 'fast']\n",
    "for noun in list_noun:\n",
    "    for adjective in list_adjective:\n",
    "        print(noun, adjective)\n",
    "    "
   ]
  },
  {
   "cell_type": "code",
   "execution_count": null,
   "id": "90dc5d5d",
   "metadata": {},
   "outputs": [],
   "source": []
  }
 ],
 "metadata": {
  "kernelspec": {
   "display_name": "Python 3 (ipykernel)",
   "language": "python",
   "name": "python3"
  },
  "language_info": {
   "codemirror_mode": {
    "name": "ipython",
    "version": 3
   },
   "file_extension": ".py",
   "mimetype": "text/x-python",
   "name": "python",
   "nbconvert_exporter": "python",
   "pygments_lexer": "ipython3",
   "version": "3.9.7"
  }
 },
 "nbformat": 4,
 "nbformat_minor": 5
}
