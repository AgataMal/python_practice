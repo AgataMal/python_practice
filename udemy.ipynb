{
 "cells": [
  {
   "cell_type": "code",
   "execution_count": 2,
   "id": "0d46d5a8",
   "metadata": {},
   "outputs": [
    {
     "name": "stdout",
     "output_type": "stream",
     "text": [
      "TVP1 TVP2 TVN Polsat BBC HBO MTV\n"
     ]
    }
   ],
   "source": [
    "print (\"TVP1\", \"TVP2\", \"TVN\", \"Polsat\", \"BBC\", \"HBO\", \"MTV\")\n"
   ]
  },
  {
   "cell_type": "code",
   "execution_count": 3,
   "id": "26d8a365",
   "metadata": {},
   "outputs": [
    {
     "name": "stdout",
     "output_type": "stream",
     "text": [
      "TVP1-TVP2-TVN-Polsat-BBC-HBO-MTV\n"
     ]
    }
   ],
   "source": [
    "print (\"TVP1\", \"TVP2\", \"TVN\", \"Polsat\", \"BBC\", \"HBO\", \"MTV\", sep=\"-\")\n"
   ]
  },
  {
   "cell_type": "code",
   "execution_count": 4,
   "id": "24c7f7c7",
   "metadata": {},
   "outputs": [],
   "source": [
    "ProgramName='BBC'\n",
    "Item='news'\n",
    "Time='18'"
   ]
  },
  {
   "cell_type": "code",
   "execution_count": 5,
   "id": "ab36db43",
   "metadata": {},
   "outputs": [
    {
     "name": "stdout",
     "output_type": "stream",
     "text": [
      "I like watching News at 18:00 on BBC .\n"
     ]
    }
   ],
   "source": [
    "print ('I like watching News at 18:00 on BBC .')"
   ]
  },
  {
   "cell_type": "code",
   "execution_count": 6,
   "id": "cd1fd83d",
   "metadata": {},
   "outputs": [
    {
     "name": "stdout",
     "output_type": "stream",
     "text": [
      "I like watching news at 18 on BBC .\n",
      "I like watching news at 18 on BBC.\n"
     ]
    }
   ],
   "source": [
    "print('I like watching',Item,'at',Time,'on',ProgramName,'.')\n",
    "print('I like watching ',Item,' at ',Time,' on ',ProgramName,'.', sep='')"
   ]
  },
  {
   "cell_type": "code",
   "execution_count": 9,
   "id": "b60ff65c",
   "metadata": {},
   "outputs": [
    {
     "data": {
      "text/plain": [
       "True"
      ]
     },
     "execution_count": 9,
     "metadata": {},
     "output_type": "execute_result"
    }
   ],
   "source": [
    "\"kkk\".isprintable()"
   ]
  },
  {
   "cell_type": "code",
   "execution_count": 10,
   "id": "f6e9d3e6",
   "metadata": {},
   "outputs": [],
   "source": [
    "quote='A good programmer is someone who always looks both ways before crossing a one-way street'"
   ]
  },
  {
   "cell_type": "code",
   "execution_count": 13,
   "id": "a90173ec",
   "metadata": {},
   "outputs": [
    {
     "data": {
      "text/plain": [
       "'A GOOD PROGRAMMER IS SOMEONE WHO ALWAYS LOOKS BOTH WAYS BEFORE CROSSING A ONE-WAY STREET'"
      ]
     },
     "execution_count": 13,
     "metadata": {},
     "output_type": "execute_result"
    }
   ],
   "source": [
    "quote.upper()\n"
   ]
  },
  {
   "cell_type": "code",
   "execution_count": 14,
   "id": "665d9c7e",
   "metadata": {},
   "outputs": [
    {
     "data": {
      "text/plain": [
       "'a good programmer is someone who always looks both ways before crossing a one-way street'"
      ]
     },
     "execution_count": 14,
     "metadata": {},
     "output_type": "execute_result"
    }
   ],
   "source": [
    "quote.lower()"
   ]
  },
  {
   "cell_type": "code",
   "execution_count": 15,
   "id": "103b9a71",
   "metadata": {},
   "outputs": [
    {
     "data": {
      "text/plain": [
       "True"
      ]
     },
     "execution_count": 15,
     "metadata": {},
     "output_type": "execute_result"
    }
   ],
   "source": [
    "quote.endswith('street')"
   ]
  },
  {
   "cell_type": "code",
   "execution_count": 16,
   "id": "7b957a0e",
   "metadata": {},
   "outputs": [
    {
     "data": {
      "text/plain": [
       "25"
      ]
     },
     "execution_count": 16,
     "metadata": {},
     "output_type": "execute_result"
    }
   ],
   "source": [
    "quote.find('one')"
   ]
  },
  {
   "cell_type": "code",
   "execution_count": 17,
   "id": "88988cdf",
   "metadata": {},
   "outputs": [
    {
     "data": {
      "text/plain": [
       "'A good programmer is some1 who always looks both ways before crossing a 1-way street'"
      ]
     },
     "execution_count": 17,
     "metadata": {},
     "output_type": "execute_result"
    }
   ],
   "source": [
    "quote.replace('one','1')"
   ]
  },
  {
   "cell_type": "code",
   "execution_count": 19,
   "id": "6042e1ad",
   "metadata": {},
   "outputs": [
    {
     "data": {
      "text/plain": [
       "('A good programmer is some1 who always looks both ways before crossing a 1-way street',\n",
       " 'A good programmer is someone who always looks 2 ways before crossing a one-way street')"
      ]
     },
     "execution_count": 19,
     "metadata": {},
     "output_type": "execute_result"
    }
   ],
   "source": [
    "quote.replace('one','1'), quote.replace('both', '2')"
   ]
  },
  {
   "cell_type": "code",
   "execution_count": 22,
   "id": "62957764",
   "metadata": {},
   "outputs": [
    {
     "data": {
      "text/plain": [
       "['A',\n",
       " 'good',\n",
       " 'programmer',\n",
       " 'is',\n",
       " 'someone',\n",
       " 'who',\n",
       " 'always',\n",
       " 'looks',\n",
       " 'both',\n",
       " 'ways',\n",
       " 'before',\n",
       " 'crossing',\n",
       " 'a',\n",
       " 'one-way',\n",
       " 'street']"
      ]
     },
     "execution_count": 22,
     "metadata": {},
     "output_type": "execute_result"
    }
   ],
   "source": [
    "quote.split(' ')"
   ]
  },
  {
   "cell_type": "code",
   "execution_count": 25,
   "id": "f5e9718c",
   "metadata": {},
   "outputs": [
    {
     "data": {
      "text/plain": [
       "False"
      ]
     },
     "execution_count": 25,
     "metadata": {},
     "output_type": "execute_result"
    }
   ],
   "source": [
    "quote.isnumeric()\n",
    "quote.isdigit()\n",
    "quote.isdecimal()\n",
    "quote.isalpha()"
   ]
  },
  {
   "cell_type": "code",
   "execution_count": 2,
   "id": "67d95d69",
   "metadata": {},
   "outputs": [
    {
     "name": "stdout",
     "output_type": "stream",
     "text": [
      "Kasia Sowa Mrugała\n"
     ]
    }
   ],
   "source": [
    "firstName='Kasia'\n",
    "familyName='Sowa'\n",
    "lastName='Mrugała'\n",
    "newName=firstName+' '+familyName+' '+lastName\n",
    "print(newName)"
   ]
  },
  {
   "cell_type": "code",
   "execution_count": 12,
   "id": "c59f765b",
   "metadata": {},
   "outputs": [
    {
     "name": "stdout",
     "output_type": "stream",
     "text": [
      "\"Universal Fanfare\" Jerry Goldsmith \n",
      "\"Happy Together\" Garry Bonner \n",
      "\" I'm a Man\" Steve Winwood\n"
     ]
    }
   ],
   "source": [
    "music='\"Universal Fanfare\" Jerry Goldsmith \\n\"Happy Together\" Garry Bonner \\n\" I\\'m a Man\" Steve Winwood'\n",
    "print(music)"
   ]
  },
  {
   "cell_type": "code",
   "execution_count": 18,
   "id": "db9aa0be",
   "metadata": {},
   "outputs": [],
   "source": [
    "article='''Monty Python, grupa Monty Pythona, Pythoni – zespół twórców i gwiazd telewizyjnego serialu komediowego Latający cyrk Monty Pythona, założony pod koniec lat 60. XX wieku w Anglii. W skład grupy wchodziło sześciu komików: Graham Chapman, John Cleese, Terry Gilliam, Eric Idle, Terry Jones i Michael Palin. '''"
   ]
  },
  {
   "cell_type": "code",
   "execution_count": 19,
   "id": "aa1a9913",
   "metadata": {},
   "outputs": [
    {
     "name": "stdout",
     "output_type": "stream",
     "text": [
      "Monty Python, grupa Monty Pythona, Pythoni – zespół twórców i gwiazd telewizyjnego serialu komediowego Latający cyrk Monty Pythona, założony pod koniec lat 60. XX wieku w Anglii. W skład grupy wchodziło sześciu komików: Graham Chapman, John Cleese, Terry Gilliam, Eric Idle, Terry Jones i Michael Palin. \n"
     ]
    }
   ],
   "source": [
    "print(article)"
   ]
  },
  {
   "cell_type": "code",
   "execution_count": 21,
   "id": "ae1cb6a2",
   "metadata": {},
   "outputs": [
    {
     "data": {
      "text/plain": [
       "'MONTY PYTHON, GRUPA MONTY PYTHONA, PYTHONI – ZESPÓŁ TWÓRCÓW I GWIAZD TELEWIZYJNEGO SERIALU KOMEDIOWEGO LATAJĄCY CYRK MONTY PYTHONA, ZAŁOŻONY POD KONIEC LAT 60. XX WIEKU W ANGLII. W SKŁAD GRUPY WCHODZIŁO SZEŚCIU KOMIKÓW: GRAHAM CHAPMAN, JOHN CLEESE, TERRY GILLIAM, ERIC IDLE, TERRY JONES I MICHAEL PALIN. '"
      ]
     },
     "execution_count": 21,
     "metadata": {},
     "output_type": "execute_result"
    }
   ],
   "source": [
    "article.upper()"
   ]
  },
  {
   "cell_type": "code",
   "execution_count": 22,
   "id": "da626887",
   "metadata": {},
   "outputs": [
    {
     "data": {
      "text/plain": [
       "'monty python, grupa monty pythona, pythoni – zespół twórców i gwiazd telewizyjnego serialu komediowego latający cyrk monty pythona, założony pod koniec lat 60. xx wieku w anglii. w skład grupy wchodziło sześciu komików: graham chapman, john cleese, terry gilliam, eric idle, terry jones i michael palin. '"
      ]
     },
     "execution_count": 22,
     "metadata": {},
     "output_type": "execute_result"
    }
   ],
   "source": [
    "article.lower()"
   ]
  },
  {
   "cell_type": "code",
   "execution_count": 25,
   "id": "f7f7021b",
   "metadata": {},
   "outputs": [
    {
     "data": {
      "text/plain": [
       "'flying Python, grupa flying Pythona, Pythoni – zespół twórców i gwiazd telewizyjnego serialu komediowego Latający cyrk flying Pythona, założony pod koniec lat 60. XX wieku w Anglii. W skład grupy wchodziło sześciu komików: Graham Chapman, John Cleese, Terry Gilliam, Eric Idle, Terry Jones i Michael Palin. '"
      ]
     },
     "execution_count": 25,
     "metadata": {},
     "output_type": "execute_result"
    }
   ],
   "source": [
    "print.article.replace('Monty','flying')"
   ]
  },
  {
   "cell_type": "code",
   "execution_count": 26,
   "id": "f00ac0d0",
   "metadata": {},
   "outputs": [
    {
     "data": {
      "text/plain": [
       "['Monty',\n",
       " 'Python,',\n",
       " 'grupa',\n",
       " 'Monty',\n",
       " 'Pythona,',\n",
       " 'Pythoni',\n",
       " '–',\n",
       " 'zespół',\n",
       " 'twórców',\n",
       " 'i',\n",
       " 'gwiazd',\n",
       " 'telewizyjnego',\n",
       " 'serialu',\n",
       " 'komediowego',\n",
       " 'Latający',\n",
       " 'cyrk',\n",
       " 'Monty',\n",
       " 'Pythona,',\n",
       " 'założony',\n",
       " 'pod',\n",
       " 'koniec',\n",
       " 'lat',\n",
       " '60.',\n",
       " 'XX',\n",
       " 'wieku',\n",
       " 'w',\n",
       " 'Anglii.',\n",
       " 'W',\n",
       " 'skład',\n",
       " 'grupy',\n",
       " 'wchodziło',\n",
       " 'sześciu',\n",
       " 'komików:',\n",
       " 'Graham',\n",
       " 'Chapman,',\n",
       " 'John',\n",
       " 'Cleese,',\n",
       " 'Terry',\n",
       " 'Gilliam,',\n",
       " 'Eric',\n",
       " 'Idle,',\n",
       " 'Terry',\n",
       " 'Jones',\n",
       " 'i',\n",
       " 'Michael',\n",
       " 'Palin.',\n",
       " '']"
      ]
     },
     "execution_count": 26,
     "metadata": {},
     "output_type": "execute_result"
    }
   ],
   "source": [
    "article.split(' ')"
   ]
  },
  {
   "cell_type": "code",
   "execution_count": 28,
   "id": "9ffa65d9",
   "metadata": {},
   "outputs": [
    {
     "data": {
      "text/plain": [
       "4"
      ]
     },
     "execution_count": 28,
     "metadata": {},
     "output_type": "execute_result"
    }
   ],
   "source": [
    "article.count('Python')"
   ]
  },
  {
   "cell_type": "code",
   "execution_count": 37,
   "id": "7f9207e7",
   "metadata": {},
   "outputs": [
    {
     "name": "stdout",
     "output_type": "stream",
     "text": [
      "word Python appears 4 times\n"
     ]
    }
   ],
   "source": [
    "print(\"word Python appears \" +str(article.count('Python')) + \" times\")"
   ]
  },
  {
   "cell_type": "code",
   "execution_count": 38,
   "id": "feaba9ec",
   "metadata": {},
   "outputs": [
    {
     "name": "stdout",
     "output_type": "stream",
     "text": [
      "word Python appears 4 times\n"
     ]
    }
   ],
   "source": [
    "print(\"word Python appears\",str(article.count('Python')),\"times\", sep=\" \")"
   ]
  },
  {
   "cell_type": "code",
   "execution_count": 40,
   "id": "8ff3d8c1",
   "metadata": {},
   "outputs": [
    {
     "name": "stdout",
     "output_type": "stream",
     "text": [
      "word Python appears 4 times\n"
     ]
    }
   ],
   "source": [
    "print(f'word Python appears {str(article.count(\"Python\"))} times')"
   ]
  },
  {
   "cell_type": "code",
   "execution_count": 46,
   "id": "0e782d72",
   "metadata": {},
   "outputs": [
    {
     "name": "stdout",
     "output_type": "stream",
     "text": [
      "to print the \\ you need to put \\ twice in your text like this: \\\\\n"
     ]
    }
   ],
   "source": [
    "print (\"to print the \\ you need to put \\ twice in your text like this: \\\\\\\\\")"
   ]
  },
  {
   "cell_type": "code",
   "execution_count": 42,
   "id": "38fd37ab",
   "metadata": {},
   "outputs": [
    {
     "name": "stdout",
     "output_type": "stream",
     "text": [
      "The best hits of '80s!!! \n"
     ]
    }
   ],
   "source": [
    "print(\"The best hits of '80s!!! \")"
   ]
  },
  {
   "cell_type": "code",
   "execution_count": 43,
   "id": "e63a4922",
   "metadata": {},
   "outputs": [
    {
     "name": "stdout",
     "output_type": "stream",
     "text": [
      "The best hits of '80s!!!\n"
     ]
    }
   ],
   "source": [
    "print('The best hits of \\'80s!!!')"
   ]
  },
  {
   "cell_type": "code",
   "execution_count": 3,
   "id": "91e540b3",
   "metadata": {},
   "outputs": [
    {
     "name": "stdout",
     "output_type": "stream",
     "text": [
      "cur \texchange amount\n",
      "USD \t 3.65 \t 64.10958904109589\n",
      "EUR \t 4.23 \t 55.31914893617021\n",
      "value is  123.45 factor is 1.23 value*factor= 151.8435\n"
     ]
    }
   ],
   "source": [
    "amountPLN=234\n",
    "print('cur','\\texchange','amount')\n",
    "print('USD',\"\\t\",3.65,\"\\t\",amountPLN/3.65)\n",
    "print('EUR','\\t',4.23,\"\\t\",amountPLN/4.23)\n",
    "valueAsText = '123.45'\n",
    "factor =1.23\n",
    "print('value is ', valueAsText,'factor is',factor,'value*factor=',float(valueAsText)*factor)"
   ]
  },
  {
   "cell_type": "code",
   "execution_count": 10,
   "id": "4c7feeab",
   "metadata": {},
   "outputs": [],
   "source": [
    "name='Agata'\n",
    "age=34\n",
    "daysInYear=365\n",
    "message= name+' is'+ str(age) + ' years old, so is about' + str(age*daysInYear)"
   ]
  },
  {
   "cell_type": "code",
   "execution_count": null,
   "id": "7b0c17db",
   "metadata": {},
   "outputs": [],
   "source": []
  },
  {
   "cell_type": "code",
   "execution_count": null,
   "id": "2630b168",
   "metadata": {},
   "outputs": [],
   "source": []
  }
 ],
 "metadata": {
  "kernelspec": {
   "display_name": "Python 3 (ipykernel)",
   "language": "python",
   "name": "python3"
  },
  "language_info": {
   "codemirror_mode": {
    "name": "ipython",
    "version": 3
   },
   "file_extension": ".py",
   "mimetype": "text/x-python",
   "name": "python",
   "nbconvert_exporter": "python",
   "pygments_lexer": "ipython3",
   "version": "3.9.7"
  }
 },
 "nbformat": 4,
 "nbformat_minor": 5
}
