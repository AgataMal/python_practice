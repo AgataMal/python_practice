{
 "cells": [
  {
   "cell_type": "code",
   "execution_count": 2,
   "id": "143bee38",
   "metadata": {},
   "outputs": [],
   "source": [
    "class konto:\n",
    "    def __init__(self, wlasciciel, balans_startowy):\n",
    "        \n",
    "        self.wlasciciel=wlasciciel\n",
    "        if balans_startowy >=0:\n",
    "            self.balans_biezacy=balans_startowy\n",
    "    \n",
    "    def dostac(self,kwota):\n",
    "        self.balans_biezacy+=kwota\n",
    "        \n",
    "    def zabieram(self,kwota):\n",
    "        self.balans_biezacy-=kwota\n",
    "        \n",
    "    def stan(self):\n",
    "        print(self.wlasciciel +\" ma\",self.balans_biezacy)"
   ]
  },
  {
   "cell_type": "code",
   "execution_count": 5,
   "id": "249b2388",
   "metadata": {},
   "outputs": [],
   "source": [
    "def przelew(kwota,skad,dokad):\n",
    "    skad.zabieram(kwota)\n",
    "    dokad.dostac(kwota)"
   ]
  },
  {
   "cell_type": "code",
   "execution_count": 6,
   "id": "1ef4337e",
   "metadata": {},
   "outputs": [
    {
     "name": "stdout",
     "output_type": "stream",
     "text": [
      "agata ma 950\n",
      "pawel ma 550\n"
     ]
    }
   ],
   "source": [
    "konto_z=konto(\"agata\",1000)\n",
    "konto_do=konto(\"pawel\",500)\n",
    "przelew(50,konto_z,konto_do)\n",
    "konto_z.stan()\n",
    "konto_do.stan()\n",
    "\n"
   ]
  },
  {
   "cell_type": "code",
   "execution_count": null,
   "id": "81ec61df",
   "metadata": {},
   "outputs": [],
   "source": []
  },
  {
   "cell_type": "code",
   "execution_count": null,
   "id": "acd22cae",
   "metadata": {},
   "outputs": [],
   "source": []
  }
 ],
 "metadata": {
  "kernelspec": {
   "display_name": "Python 3 (ipykernel)",
   "language": "python",
   "name": "python3"
  },
  "language_info": {
   "codemirror_mode": {
    "name": "ipython",
    "version": 3
   },
   "file_extension": ".py",
   "mimetype": "text/x-python",
   "name": "python",
   "nbconvert_exporter": "python",
   "pygments_lexer": "ipython3",
   "version": "3.9.7"
  }
 },
 "nbformat": 4,
 "nbformat_minor": 5
}
