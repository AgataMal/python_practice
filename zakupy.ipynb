{
 "cells": [
  {
   "cell_type": "code",
   "execution_count": 4,
   "id": "7fcb90e2",
   "metadata": {},
   "outputs": [],
   "source": [
    "class Produkt:\n",
    "    cena=0\n",
    "    nazwa=None\n",
    "    def __init__(self,cena,nazwa):\n",
    "        self.cena=cena\n",
    "        self.nazwa=nazwa\n",
    "    def cena_produktu(self):\n",
    "        return self.cena\n",
    "    "
   ]
  },
  {
   "cell_type": "code",
   "execution_count": 5,
   "id": "0df51082",
   "metadata": {},
   "outputs": [],
   "source": [
    " class Koszyk:\n",
    "    produkty=[]\n",
    "    def wrzuc(self,produkt):\n",
    "        self.produkty.append(produkt)\n",
    "    def podlicz(self):\n",
    "        kupione=0\n",
    "        for produkt in self.produkty:\n",
    "            kupione+=produkt.cena_produktu()\n",
    "        return kupione\n",
    "    def wez_produkty(self):\n",
    "        return self.produkty\n",
    "    "
   ]
  },
  {
   "cell_type": "code",
   "execution_count": 6,
   "id": "75921992",
   "metadata": {},
   "outputs": [],
   "source": [
    "def do_kasy(pieniadze,koszyk):\n",
    "    print(\"reszta:\" + str(pieniadze-koszyk.podlicz()))\n"
   ]
  },
  {
   "cell_type": "code",
   "execution_count": 7,
   "id": "8b7cfa39",
   "metadata": {},
   "outputs": [],
   "source": [
    "koszyk=Koszyk()\n",
    "\n",
    "koszyk.wrzuc(Produkt(10,\"chleb\"))\n",
    "koszyk.wrzuc(Produkt(4,\"jaja\"))\n",
    "koszyk.wrzuc(Produkt(5,\"maslo\"))\n"
   ]
  },
  {
   "cell_type": "code",
   "execution_count": 8,
   "id": "2f8fd68b",
   "metadata": {},
   "outputs": [
    {
     "name": "stdout",
     "output_type": "stream",
     "text": [
      "reszta:31\n"
     ]
    }
   ],
   "source": [
    "piniondz=50\n",
    "do_kasy(piniondz,koszyk)"
   ]
  },
  {
   "cell_type": "code",
   "execution_count": 10,
   "id": "82a9b7d6",
   "metadata": {},
   "outputs": [
    {
     "data": {
      "text/plain": [
       "[<__main__.Produkt at 0x7f6f8c4bad30>,\n",
       " <__main__.Produkt at 0x7f6f8c4ba820>,\n",
       " <__main__.Produkt at 0x7f6f8c4ba4c0>]"
      ]
     },
     "execution_count": 10,
     "metadata": {},
     "output_type": "execute_result"
    }
   ],
   "source": [
    "koszyk.wez_produkty()"
   ]
  },
  {
   "cell_type": "code",
   "execution_count": null,
   "id": "244a1d04",
   "metadata": {},
   "outputs": [],
   "source": []
  }
 ],
 "metadata": {
  "kernelspec": {
   "display_name": "Python 3 (ipykernel)",
   "language": "python",
   "name": "python3"
  },
  "language_info": {
   "codemirror_mode": {
    "name": "ipython",
    "version": 3
   },
   "file_extension": ".py",
   "mimetype": "text/x-python",
   "name": "python",
   "nbconvert_exporter": "python",
   "pygments_lexer": "ipython3",
   "version": "3.9.7"
  }
 },
 "nbformat": 4,
 "nbformat_minor": 5
}
