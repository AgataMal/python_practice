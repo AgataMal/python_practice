{
 "cells": [
  {
   "cell_type": "code",
   "execution_count": null,
   "id": "6e94a46b",
   "metadata": {},
   "outputs": [],
   "source": [
    "n = int(input().strip())\n",
    "if not n % 2== 0: \n",
    "    print(\"Weird\")\n",
    "else:\n",
    "    if n>=2 and n<=5:\n",
    "        print(\"Not Weird\")\n",
    "    elif n>=6 and n<=20:\n",
    "        print(\"Weird\")\n",
    "    elif n>20:\n",
    "        print(\"Not Weird\")"
   ]
  },
  {
   "cell_type": "code",
   "execution_count": null,
   "id": "814698cb",
   "metadata": {},
   "outputs": [],
   "source": []
  },
  {
   "cell_type": "code",
   "execution_count": null,
   "id": "f75bcfba",
   "metadata": {},
   "outputs": [],
   "source": []
  },
  {
   "cell_type": "code",
   "execution_count": null,
   "id": "a95cc07a",
   "metadata": {},
   "outputs": [],
   "source": []
  }
 ],
 "metadata": {
  "kernelspec": {
   "display_name": "Python 3 (ipykernel)",
   "language": "python",
   "name": "python3"
  },
  "language_info": {
   "codemirror_mode": {
    "name": "ipython",
    "version": 3
   },
   "file_extension": ".py",
   "mimetype": "text/x-python",
   "name": "python",
   "nbconvert_exporter": "python",
   "pygments_lexer": "ipython3",
   "version": "3.9.7"
  }
 },
 "nbformat": 4,
 "nbformat_minor": 5
}
